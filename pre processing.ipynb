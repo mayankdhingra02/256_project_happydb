{
 "cells": [
  {
   "cell_type": "code",
   "execution_count": 166,
   "metadata": {},
   "outputs": [],
   "source": [
    "import pandas as pd\n",
    "import cufflinks as cf\n",
    "import matplotlib.pyplot as plt\n",
    "import seaborn as sns\n",
    "import numpy as np\n",
    "from sklearn.feature_extraction.text import CountVectorizer\n",
    "from sklearn.model_selection import train_test_split\n",
    "from sklearn.naive_bayes import MultinomialNB\n",
    "from sklearn.metrics import classification_report, confusion_matrix\n",
    "from sklearn.feature_extraction.text import TfidfTransformer\n",
    "from sklearn.pipeline import Pipeline"
   ]
  },
  {
   "cell_type": "code",
   "execution_count": 167,
   "metadata": {},
   "outputs": [
    {
     "data": {
      "text/html": [
       "<div>\n",
       "<style scoped>\n",
       "    .dataframe tbody tr th:only-of-type {\n",
       "        vertical-align: middle;\n",
       "    }\n",
       "\n",
       "    .dataframe tbody tr th {\n",
       "        vertical-align: top;\n",
       "    }\n",
       "\n",
       "    .dataframe thead th {\n",
       "        text-align: right;\n",
       "    }\n",
       "</style>\n",
       "<table border=\"1\" class=\"dataframe\">\n",
       "  <thead>\n",
       "    <tr style=\"text-align: right;\">\n",
       "      <th></th>\n",
       "      <th>hmid</th>\n",
       "      <th>wid</th>\n",
       "      <th>reflection_period</th>\n",
       "      <th>original_hm</th>\n",
       "      <th>cleaned_hm</th>\n",
       "      <th>modified</th>\n",
       "      <th>num_sentence</th>\n",
       "      <th>ground_truth_category</th>\n",
       "      <th>predicted_category</th>\n",
       "    </tr>\n",
       "  </thead>\n",
       "  <tbody>\n",
       "    <tr>\n",
       "      <th>0</th>\n",
       "      <td>27673</td>\n",
       "      <td>2053</td>\n",
       "      <td>24h</td>\n",
       "      <td>I went on a successful date with someone I fel...</td>\n",
       "      <td>I went on a successful date with someone I fel...</td>\n",
       "      <td>True</td>\n",
       "      <td>1</td>\n",
       "      <td>NaN</td>\n",
       "      <td>affection</td>\n",
       "    </tr>\n",
       "    <tr>\n",
       "      <th>1</th>\n",
       "      <td>27674</td>\n",
       "      <td>2</td>\n",
       "      <td>24h</td>\n",
       "      <td>I was happy when my son got 90% marks in his e...</td>\n",
       "      <td>I was happy when my son got 90% marks in his e...</td>\n",
       "      <td>True</td>\n",
       "      <td>1</td>\n",
       "      <td>NaN</td>\n",
       "      <td>affection</td>\n",
       "    </tr>\n",
       "    <tr>\n",
       "      <th>2</th>\n",
       "      <td>27675</td>\n",
       "      <td>1936</td>\n",
       "      <td>24h</td>\n",
       "      <td>I went to the gym this morning and did yoga.</td>\n",
       "      <td>I went to the gym this morning and did yoga.</td>\n",
       "      <td>True</td>\n",
       "      <td>1</td>\n",
       "      <td>NaN</td>\n",
       "      <td>exercise</td>\n",
       "    </tr>\n",
       "    <tr>\n",
       "      <th>3</th>\n",
       "      <td>27676</td>\n",
       "      <td>206</td>\n",
       "      <td>24h</td>\n",
       "      <td>We had a serious talk with some friends of our...</td>\n",
       "      <td>We had a serious talk with some friends of our...</td>\n",
       "      <td>True</td>\n",
       "      <td>2</td>\n",
       "      <td>bonding</td>\n",
       "      <td>bonding</td>\n",
       "    </tr>\n",
       "    <tr>\n",
       "      <th>4</th>\n",
       "      <td>27677</td>\n",
       "      <td>6227</td>\n",
       "      <td>24h</td>\n",
       "      <td>I went with grandchildren to butterfly display...</td>\n",
       "      <td>I went with grandchildren to butterfly display...</td>\n",
       "      <td>True</td>\n",
       "      <td>1</td>\n",
       "      <td>NaN</td>\n",
       "      <td>affection</td>\n",
       "    </tr>\n",
       "  </tbody>\n",
       "</table>\n",
       "</div>"
      ],
      "text/plain": [
       "    hmid   wid reflection_period  \\\n",
       "0  27673  2053               24h   \n",
       "1  27674     2               24h   \n",
       "2  27675  1936               24h   \n",
       "3  27676   206               24h   \n",
       "4  27677  6227               24h   \n",
       "\n",
       "                                         original_hm  \\\n",
       "0  I went on a successful date with someone I fel...   \n",
       "1  I was happy when my son got 90% marks in his e...   \n",
       "2       I went to the gym this morning and did yoga.   \n",
       "3  We had a serious talk with some friends of our...   \n",
       "4  I went with grandchildren to butterfly display...   \n",
       "\n",
       "                                          cleaned_hm  modified  num_sentence  \\\n",
       "0  I went on a successful date with someone I fel...      True             1   \n",
       "1  I was happy when my son got 90% marks in his e...      True             1   \n",
       "2       I went to the gym this morning and did yoga.      True             1   \n",
       "3  We had a serious talk with some friends of our...      True             2   \n",
       "4  I went with grandchildren to butterfly display...      True             1   \n",
       "\n",
       "  ground_truth_category predicted_category  \n",
       "0                   NaN          affection  \n",
       "1                   NaN          affection  \n",
       "2                   NaN           exercise  \n",
       "3               bonding            bonding  \n",
       "4                   NaN          affection  "
      ]
     },
     "execution_count": 167,
     "metadata": {},
     "output_type": "execute_result"
    }
   ],
   "source": [
    "cleaned_hm= pd.read_csv('cleaned_hm.csv')\n",
    "demographic = pd.read_csv('demographic.csv')\n",
    "cleaned_hm.head()"
   ]
  },
  {
   "cell_type": "code",
   "execution_count": 168,
   "metadata": {},
   "outputs": [
    {
     "data": {
      "text/html": [
       "<div>\n",
       "<style scoped>\n",
       "    .dataframe tbody tr th:only-of-type {\n",
       "        vertical-align: middle;\n",
       "    }\n",
       "\n",
       "    .dataframe tbody tr th {\n",
       "        vertical-align: top;\n",
       "    }\n",
       "\n",
       "    .dataframe thead th {\n",
       "        text-align: right;\n",
       "    }\n",
       "</style>\n",
       "<table border=\"1\" class=\"dataframe\">\n",
       "  <thead>\n",
       "    <tr style=\"text-align: right;\">\n",
       "      <th></th>\n",
       "      <th>wid</th>\n",
       "      <th>age</th>\n",
       "      <th>country</th>\n",
       "      <th>gender</th>\n",
       "      <th>marital</th>\n",
       "      <th>parenthood</th>\n",
       "    </tr>\n",
       "  </thead>\n",
       "  <tbody>\n",
       "    <tr>\n",
       "      <th>0</th>\n",
       "      <td>1</td>\n",
       "      <td>37.0</td>\n",
       "      <td>USA</td>\n",
       "      <td>m</td>\n",
       "      <td>married</td>\n",
       "      <td>y</td>\n",
       "    </tr>\n",
       "    <tr>\n",
       "      <th>1</th>\n",
       "      <td>2</td>\n",
       "      <td>29.0</td>\n",
       "      <td>IND</td>\n",
       "      <td>m</td>\n",
       "      <td>married</td>\n",
       "      <td>y</td>\n",
       "    </tr>\n",
       "    <tr>\n",
       "      <th>2</th>\n",
       "      <td>3</td>\n",
       "      <td>25</td>\n",
       "      <td>IND</td>\n",
       "      <td>m</td>\n",
       "      <td>single</td>\n",
       "      <td>n</td>\n",
       "    </tr>\n",
       "    <tr>\n",
       "      <th>3</th>\n",
       "      <td>4</td>\n",
       "      <td>32</td>\n",
       "      <td>USA</td>\n",
       "      <td>m</td>\n",
       "      <td>married</td>\n",
       "      <td>y</td>\n",
       "    </tr>\n",
       "    <tr>\n",
       "      <th>4</th>\n",
       "      <td>5</td>\n",
       "      <td>29</td>\n",
       "      <td>USA</td>\n",
       "      <td>m</td>\n",
       "      <td>married</td>\n",
       "      <td>y</td>\n",
       "    </tr>\n",
       "  </tbody>\n",
       "</table>\n",
       "</div>"
      ],
      "text/plain": [
       "   wid   age country gender  marital parenthood\n",
       "0    1  37.0     USA      m  married          y\n",
       "1    2  29.0     IND      m  married          y\n",
       "2    3    25     IND      m   single          n\n",
       "3    4    32     USA      m  married          y\n",
       "4    5    29     USA      m  married          y"
      ]
     },
     "execution_count": 168,
     "metadata": {},
     "output_type": "execute_result"
    }
   ],
   "source": [
    "demographic.head()"
   ]
  },
  {
   "cell_type": "code",
   "execution_count": 169,
   "metadata": {},
   "outputs": [
    {
     "name": "stdout",
     "output_type": "stream",
     "text": [
      "<class 'pandas.core.frame.DataFrame'>\n",
      "RangeIndex: 100535 entries, 0 to 100534\n",
      "Data columns (total 9 columns):\n",
      " #   Column                 Non-Null Count   Dtype \n",
      "---  ------                 --------------   ----- \n",
      " 0   hmid                   100535 non-null  int64 \n",
      " 1   wid                    100535 non-null  int64 \n",
      " 2   reflection_period      100535 non-null  object\n",
      " 3   original_hm            100535 non-null  object\n",
      " 4   cleaned_hm             100535 non-null  object\n",
      " 5   modified               100535 non-null  bool  \n",
      " 6   num_sentence           100535 non-null  int64 \n",
      " 7   ground_truth_category  14125 non-null   object\n",
      " 8   predicted_category     100535 non-null  object\n",
      "dtypes: bool(1), int64(3), object(5)\n",
      "memory usage: 6.2+ MB\n"
     ]
    }
   ],
   "source": [
    "cleaned_hm.info()"
   ]
  },
  {
   "cell_type": "code",
   "execution_count": 170,
   "metadata": {},
   "outputs": [
    {
     "name": "stdout",
     "output_type": "stream",
     "text": [
      "<class 'pandas.core.frame.DataFrame'>\n",
      "RangeIndex: 10844 entries, 0 to 10843\n",
      "Data columns (total 6 columns):\n",
      " #   Column      Non-Null Count  Dtype \n",
      "---  ------      --------------  ----- \n",
      " 0   wid         10844 non-null  int64 \n",
      " 1   age         10809 non-null  object\n",
      " 2   country     10771 non-null  object\n",
      " 3   gender      10812 non-null  object\n",
      " 4   marital     10787 non-null  object\n",
      " 5   parenthood  10813 non-null  object\n",
      "dtypes: int64(1), object(5)\n",
      "memory usage: 508.4+ KB\n"
     ]
    }
   ],
   "source": [
    "demographic.info()"
   ]
  },
  {
   "cell_type": "code",
   "execution_count": 171,
   "metadata": {},
   "outputs": [],
   "source": [
    " # creating another column named \"length\" that contains the length of the words in \"cleaned_hm\" column\n",
    "cleaned_hm['length'] = cleaned_hm['cleaned_hm'].apply(lambda x: len(x.split()))"
   ]
  },
  {
   "cell_type": "code",
   "execution_count": 172,
   "metadata": {},
   "outputs": [],
   "source": [
    "#mergin both cleaned_hm and demographic files\n",
    "cleaned_hm = pd.merge(cleaned_hm, demographic, on='wid', validate = 'm:1') "
   ]
  },
  {
   "cell_type": "code",
   "execution_count": 173,
   "metadata": {},
   "outputs": [],
   "source": [
    "#Column \"reflection period\" contains only two values i.e. \"24h\" and \"3m\", replacing these with 0 and 1\n",
    "cleaned_hm.loc[cleaned_hm['reflection_period']=='24h', 'reflection_period']=0\n",
    "cleaned_hm.loc[cleaned_hm['reflection_period']=='3m', 'reflection_period']=1\n",
    "cleaned_hm.rename(columns={'3m': '3m or 24h'}, inplace=True)"
   ]
  },
  {
   "cell_type": "code",
   "execution_count": 174,
   "metadata": {},
   "outputs": [
    {
     "data": {
      "text/html": [
       "<div>\n",
       "<style scoped>\n",
       "    .dataframe tbody tr th:only-of-type {\n",
       "        vertical-align: middle;\n",
       "    }\n",
       "\n",
       "    .dataframe tbody tr th {\n",
       "        vertical-align: top;\n",
       "    }\n",
       "\n",
       "    .dataframe thead th {\n",
       "        text-align: right;\n",
       "    }\n",
       "</style>\n",
       "<table border=\"1\" class=\"dataframe\">\n",
       "  <thead>\n",
       "    <tr style=\"text-align: right;\">\n",
       "      <th></th>\n",
       "      <th>hmid</th>\n",
       "      <th>wid</th>\n",
       "      <th>reflection_period</th>\n",
       "      <th>original_hm</th>\n",
       "      <th>cleaned_hm</th>\n",
       "      <th>modified</th>\n",
       "      <th>num_sentence</th>\n",
       "      <th>ground_truth_category</th>\n",
       "      <th>predicted_category</th>\n",
       "      <th>length</th>\n",
       "      <th>age</th>\n",
       "      <th>country</th>\n",
       "      <th>gender</th>\n",
       "      <th>marital</th>\n",
       "      <th>parenthood</th>\n",
       "    </tr>\n",
       "  </thead>\n",
       "  <tbody>\n",
       "    <tr>\n",
       "      <th>0</th>\n",
       "      <td>27673</td>\n",
       "      <td>2053</td>\n",
       "      <td>0</td>\n",
       "      <td>I went on a successful date with someone I fel...</td>\n",
       "      <td>I went on a successful date with someone I fel...</td>\n",
       "      <td>True</td>\n",
       "      <td>1</td>\n",
       "      <td>NaN</td>\n",
       "      <td>affection</td>\n",
       "      <td>14</td>\n",
       "      <td>35</td>\n",
       "      <td>USA</td>\n",
       "      <td>m</td>\n",
       "      <td>single</td>\n",
       "      <td>n</td>\n",
       "    </tr>\n",
       "    <tr>\n",
       "      <th>1</th>\n",
       "      <td>27873</td>\n",
       "      <td>2053</td>\n",
       "      <td>0</td>\n",
       "      <td>I played a new game that was fun and got to en...</td>\n",
       "      <td>I played a new game that was fun and got to en...</td>\n",
       "      <td>True</td>\n",
       "      <td>1</td>\n",
       "      <td>NaN</td>\n",
       "      <td>leisure</td>\n",
       "      <td>16</td>\n",
       "      <td>35</td>\n",
       "      <td>USA</td>\n",
       "      <td>m</td>\n",
       "      <td>single</td>\n",
       "      <td>n</td>\n",
       "    </tr>\n",
       "    <tr>\n",
       "      <th>2</th>\n",
       "      <td>28073</td>\n",
       "      <td>2053</td>\n",
       "      <td>0</td>\n",
       "      <td>I listened to some music and heard an entire a...</td>\n",
       "      <td>I listened to some music and heard an entire a...</td>\n",
       "      <td>True</td>\n",
       "      <td>1</td>\n",
       "      <td>NaN</td>\n",
       "      <td>leisure</td>\n",
       "      <td>17</td>\n",
       "      <td>35</td>\n",
       "      <td>USA</td>\n",
       "      <td>m</td>\n",
       "      <td>single</td>\n",
       "      <td>n</td>\n",
       "    </tr>\n",
       "    <tr>\n",
       "      <th>3</th>\n",
       "      <td>33522</td>\n",
       "      <td>2053</td>\n",
       "      <td>0</td>\n",
       "      <td>Went to see a movie with my friend</td>\n",
       "      <td>Went to see a movie with my friend</td>\n",
       "      <td>True</td>\n",
       "      <td>1</td>\n",
       "      <td>NaN</td>\n",
       "      <td>bonding</td>\n",
       "      <td>8</td>\n",
       "      <td>35</td>\n",
       "      <td>USA</td>\n",
       "      <td>m</td>\n",
       "      <td>single</td>\n",
       "      <td>n</td>\n",
       "    </tr>\n",
       "    <tr>\n",
       "      <th>4</th>\n",
       "      <td>34522</td>\n",
       "      <td>2053</td>\n",
       "      <td>0</td>\n",
       "      <td>Played guitar, learning a song on it</td>\n",
       "      <td>Played guitar, learning a song on it</td>\n",
       "      <td>True</td>\n",
       "      <td>1</td>\n",
       "      <td>NaN</td>\n",
       "      <td>leisure</td>\n",
       "      <td>7</td>\n",
       "      <td>35</td>\n",
       "      <td>USA</td>\n",
       "      <td>m</td>\n",
       "      <td>single</td>\n",
       "      <td>n</td>\n",
       "    </tr>\n",
       "    <tr>\n",
       "      <th>...</th>\n",
       "      <td>...</td>\n",
       "      <td>...</td>\n",
       "      <td>...</td>\n",
       "      <td>...</td>\n",
       "      <td>...</td>\n",
       "      <td>...</td>\n",
       "      <td>...</td>\n",
       "      <td>...</td>\n",
       "      <td>...</td>\n",
       "      <td>...</td>\n",
       "      <td>...</td>\n",
       "      <td>...</td>\n",
       "      <td>...</td>\n",
       "      <td>...</td>\n",
       "      <td>...</td>\n",
       "    </tr>\n",
       "    <tr>\n",
       "      <th>100530</th>\n",
       "      <td>128251</td>\n",
       "      <td>11402</td>\n",
       "      <td>0</td>\n",
       "      <td>Was told I was a great employee by my boss.</td>\n",
       "      <td>Was told I was a great employee by my boss.</td>\n",
       "      <td>True</td>\n",
       "      <td>1</td>\n",
       "      <td>NaN</td>\n",
       "      <td>achievement</td>\n",
       "      <td>10</td>\n",
       "      <td>32</td>\n",
       "      <td>USA</td>\n",
       "      <td>m</td>\n",
       "      <td>married</td>\n",
       "      <td>n</td>\n",
       "    </tr>\n",
       "    <tr>\n",
       "      <th>100531</th>\n",
       "      <td>128751</td>\n",
       "      <td>11402</td>\n",
       "      <td>0</td>\n",
       "      <td>Fixed my car.</td>\n",
       "      <td>Fixed my car.</td>\n",
       "      <td>True</td>\n",
       "      <td>1</td>\n",
       "      <td>NaN</td>\n",
       "      <td>achievement</td>\n",
       "      <td>3</td>\n",
       "      <td>32</td>\n",
       "      <td>USA</td>\n",
       "      <td>m</td>\n",
       "      <td>married</td>\n",
       "      <td>n</td>\n",
       "    </tr>\n",
       "    <tr>\n",
       "      <th>100532</th>\n",
       "      <td>127759</td>\n",
       "      <td>11050</td>\n",
       "      <td>0</td>\n",
       "      <td>Four year back I lost my job. Now I am living ...</td>\n",
       "      <td>Four year back I lost my job. Now I am living ...</td>\n",
       "      <td>True</td>\n",
       "      <td>6</td>\n",
       "      <td>NaN</td>\n",
       "      <td>achievement</td>\n",
       "      <td>58</td>\n",
       "      <td>65</td>\n",
       "      <td>IND</td>\n",
       "      <td>m</td>\n",
       "      <td>married</td>\n",
       "      <td>y</td>\n",
       "    </tr>\n",
       "    <tr>\n",
       "      <th>100533</th>\n",
       "      <td>128259</td>\n",
       "      <td>11050</td>\n",
       "      <td>0</td>\n",
       "      <td>Yesterday evening I received a call from unkno...</td>\n",
       "      <td>Yesterday evening I received a call from unkno...</td>\n",
       "      <td>True</td>\n",
       "      <td>7</td>\n",
       "      <td>bonding</td>\n",
       "      <td>bonding</td>\n",
       "      <td>71</td>\n",
       "      <td>65</td>\n",
       "      <td>IND</td>\n",
       "      <td>m</td>\n",
       "      <td>married</td>\n",
       "      <td>y</td>\n",
       "    </tr>\n",
       "    <tr>\n",
       "      <th>100534</th>\n",
       "      <td>128759</td>\n",
       "      <td>11050</td>\n",
       "      <td>0</td>\n",
       "      <td>I am fond of seeing cricket match. Yesterday t...</td>\n",
       "      <td>I am fond of seeing cricket match. Yesterday t...</td>\n",
       "      <td>True</td>\n",
       "      <td>6</td>\n",
       "      <td>NaN</td>\n",
       "      <td>enjoy_the_moment</td>\n",
       "      <td>49</td>\n",
       "      <td>65</td>\n",
       "      <td>IND</td>\n",
       "      <td>m</td>\n",
       "      <td>married</td>\n",
       "      <td>y</td>\n",
       "    </tr>\n",
       "  </tbody>\n",
       "</table>\n",
       "<p>100535 rows × 15 columns</p>\n",
       "</div>"
      ],
      "text/plain": [
       "          hmid    wid reflection_period  \\\n",
       "0        27673   2053                 0   \n",
       "1        27873   2053                 0   \n",
       "2        28073   2053                 0   \n",
       "3        33522   2053                 0   \n",
       "4        34522   2053                 0   \n",
       "...        ...    ...               ...   \n",
       "100530  128251  11402                 0   \n",
       "100531  128751  11402                 0   \n",
       "100532  127759  11050                 0   \n",
       "100533  128259  11050                 0   \n",
       "100534  128759  11050                 0   \n",
       "\n",
       "                                              original_hm  \\\n",
       "0       I went on a successful date with someone I fel...   \n",
       "1       I played a new game that was fun and got to en...   \n",
       "2       I listened to some music and heard an entire a...   \n",
       "3                      Went to see a movie with my friend   \n",
       "4                    Played guitar, learning a song on it   \n",
       "...                                                   ...   \n",
       "100530       Was told I was a great employee by my boss.    \n",
       "100531                                     Fixed my car.    \n",
       "100532  Four year back I lost my job. Now I am living ...   \n",
       "100533  Yesterday evening I received a call from unkno...   \n",
       "100534  I am fond of seeing cricket match. Yesterday t...   \n",
       "\n",
       "                                               cleaned_hm  modified  \\\n",
       "0       I went on a successful date with someone I fel...      True   \n",
       "1       I played a new game that was fun and got to en...      True   \n",
       "2       I listened to some music and heard an entire a...      True   \n",
       "3                      Went to see a movie with my friend      True   \n",
       "4                    Played guitar, learning a song on it      True   \n",
       "...                                                   ...       ...   \n",
       "100530       Was told I was a great employee by my boss.       True   \n",
       "100531                                     Fixed my car.       True   \n",
       "100532  Four year back I lost my job. Now I am living ...      True   \n",
       "100533  Yesterday evening I received a call from unkno...      True   \n",
       "100534  I am fond of seeing cricket match. Yesterday t...      True   \n",
       "\n",
       "        num_sentence ground_truth_category predicted_category  length age  \\\n",
       "0                  1                   NaN          affection      14  35   \n",
       "1                  1                   NaN            leisure      16  35   \n",
       "2                  1                   NaN            leisure      17  35   \n",
       "3                  1                   NaN            bonding       8  35   \n",
       "4                  1                   NaN            leisure       7  35   \n",
       "...              ...                   ...                ...     ...  ..   \n",
       "100530             1                   NaN        achievement      10  32   \n",
       "100531             1                   NaN        achievement       3  32   \n",
       "100532             6                   NaN        achievement      58  65   \n",
       "100533             7               bonding            bonding      71  65   \n",
       "100534             6                   NaN   enjoy_the_moment      49  65   \n",
       "\n",
       "       country gender  marital parenthood  \n",
       "0          USA      m   single          n  \n",
       "1          USA      m   single          n  \n",
       "2          USA      m   single          n  \n",
       "3          USA      m   single          n  \n",
       "4          USA      m   single          n  \n",
       "...        ...    ...      ...        ...  \n",
       "100530     USA      m  married          n  \n",
       "100531     USA      m  married          n  \n",
       "100532     IND      m  married          y  \n",
       "100533     IND      m  married          y  \n",
       "100534     IND      m  married          y  \n",
       "\n",
       "[100535 rows x 15 columns]"
      ]
     },
     "execution_count": 174,
     "metadata": {},
     "output_type": "execute_result"
    }
   ],
   "source": [
    "cleaned_hm"
   ]
  },
  {
   "cell_type": "code",
   "execution_count": 177,
   "metadata": {},
   "outputs": [],
   "source": [
    "cols=['hmid',\n",
    " 'wid',\n",
    " 'cleaned_hm',\n",
    " 'num_sentence',\n",
    " 'predicted_category',\n",
    " 'length',\n",
    " 'age',\n",
    " 'country',\n",
    " 'gender',\n",
    " 'marital',\n",
    " 'parenthood',\n",
    " 'reflection_period']"
   ]
  },
  {
   "cell_type": "code",
   "execution_count": 178,
   "metadata": {},
   "outputs": [],
   "source": [
    "# dropping unnecessary columns like original_hm and modified.\n",
    "cleaned_hm = cleaned_hm[cols] "
   ]
  },
  {
   "cell_type": "code",
   "execution_count": 179,
   "metadata": {},
   "outputs": [
    {
     "data": {
      "text/html": [
       "<div>\n",
       "<style scoped>\n",
       "    .dataframe tbody tr th:only-of-type {\n",
       "        vertical-align: middle;\n",
       "    }\n",
       "\n",
       "    .dataframe tbody tr th {\n",
       "        vertical-align: top;\n",
       "    }\n",
       "\n",
       "    .dataframe thead th {\n",
       "        text-align: right;\n",
       "    }\n",
       "</style>\n",
       "<table border=\"1\" class=\"dataframe\">\n",
       "  <thead>\n",
       "    <tr style=\"text-align: right;\">\n",
       "      <th></th>\n",
       "      <th>hmid</th>\n",
       "      <th>wid</th>\n",
       "      <th>cleaned_hm</th>\n",
       "      <th>num_sentence</th>\n",
       "      <th>predicted_category</th>\n",
       "      <th>length</th>\n",
       "      <th>age</th>\n",
       "      <th>country</th>\n",
       "      <th>gender</th>\n",
       "      <th>marital</th>\n",
       "      <th>parenthood</th>\n",
       "      <th>reflection_period</th>\n",
       "    </tr>\n",
       "  </thead>\n",
       "  <tbody>\n",
       "    <tr>\n",
       "      <th>0</th>\n",
       "      <td>27673</td>\n",
       "      <td>2053</td>\n",
       "      <td>I went on a successful date with someone I fel...</td>\n",
       "      <td>1</td>\n",
       "      <td>affection</td>\n",
       "      <td>14</td>\n",
       "      <td>35</td>\n",
       "      <td>USA</td>\n",
       "      <td>m</td>\n",
       "      <td>single</td>\n",
       "      <td>n</td>\n",
       "      <td>0</td>\n",
       "    </tr>\n",
       "    <tr>\n",
       "      <th>1</th>\n",
       "      <td>27873</td>\n",
       "      <td>2053</td>\n",
       "      <td>I played a new game that was fun and got to en...</td>\n",
       "      <td>1</td>\n",
       "      <td>leisure</td>\n",
       "      <td>16</td>\n",
       "      <td>35</td>\n",
       "      <td>USA</td>\n",
       "      <td>m</td>\n",
       "      <td>single</td>\n",
       "      <td>n</td>\n",
       "      <td>0</td>\n",
       "    </tr>\n",
       "    <tr>\n",
       "      <th>2</th>\n",
       "      <td>28073</td>\n",
       "      <td>2053</td>\n",
       "      <td>I listened to some music and heard an entire a...</td>\n",
       "      <td>1</td>\n",
       "      <td>leisure</td>\n",
       "      <td>17</td>\n",
       "      <td>35</td>\n",
       "      <td>USA</td>\n",
       "      <td>m</td>\n",
       "      <td>single</td>\n",
       "      <td>n</td>\n",
       "      <td>0</td>\n",
       "    </tr>\n",
       "    <tr>\n",
       "      <th>3</th>\n",
       "      <td>33522</td>\n",
       "      <td>2053</td>\n",
       "      <td>Went to see a movie with my friend</td>\n",
       "      <td>1</td>\n",
       "      <td>bonding</td>\n",
       "      <td>8</td>\n",
       "      <td>35</td>\n",
       "      <td>USA</td>\n",
       "      <td>m</td>\n",
       "      <td>single</td>\n",
       "      <td>n</td>\n",
       "      <td>0</td>\n",
       "    </tr>\n",
       "    <tr>\n",
       "      <th>4</th>\n",
       "      <td>34522</td>\n",
       "      <td>2053</td>\n",
       "      <td>Played guitar, learning a song on it</td>\n",
       "      <td>1</td>\n",
       "      <td>leisure</td>\n",
       "      <td>7</td>\n",
       "      <td>35</td>\n",
       "      <td>USA</td>\n",
       "      <td>m</td>\n",
       "      <td>single</td>\n",
       "      <td>n</td>\n",
       "      <td>0</td>\n",
       "    </tr>\n",
       "    <tr>\n",
       "      <th>...</th>\n",
       "      <td>...</td>\n",
       "      <td>...</td>\n",
       "      <td>...</td>\n",
       "      <td>...</td>\n",
       "      <td>...</td>\n",
       "      <td>...</td>\n",
       "      <td>...</td>\n",
       "      <td>...</td>\n",
       "      <td>...</td>\n",
       "      <td>...</td>\n",
       "      <td>...</td>\n",
       "      <td>...</td>\n",
       "    </tr>\n",
       "    <tr>\n",
       "      <th>100530</th>\n",
       "      <td>128251</td>\n",
       "      <td>11402</td>\n",
       "      <td>Was told I was a great employee by my boss.</td>\n",
       "      <td>1</td>\n",
       "      <td>achievement</td>\n",
       "      <td>10</td>\n",
       "      <td>32</td>\n",
       "      <td>USA</td>\n",
       "      <td>m</td>\n",
       "      <td>married</td>\n",
       "      <td>n</td>\n",
       "      <td>0</td>\n",
       "    </tr>\n",
       "    <tr>\n",
       "      <th>100531</th>\n",
       "      <td>128751</td>\n",
       "      <td>11402</td>\n",
       "      <td>Fixed my car.</td>\n",
       "      <td>1</td>\n",
       "      <td>achievement</td>\n",
       "      <td>3</td>\n",
       "      <td>32</td>\n",
       "      <td>USA</td>\n",
       "      <td>m</td>\n",
       "      <td>married</td>\n",
       "      <td>n</td>\n",
       "      <td>0</td>\n",
       "    </tr>\n",
       "    <tr>\n",
       "      <th>100532</th>\n",
       "      <td>127759</td>\n",
       "      <td>11050</td>\n",
       "      <td>Four year back I lost my job. Now I am living ...</td>\n",
       "      <td>6</td>\n",
       "      <td>achievement</td>\n",
       "      <td>58</td>\n",
       "      <td>65</td>\n",
       "      <td>IND</td>\n",
       "      <td>m</td>\n",
       "      <td>married</td>\n",
       "      <td>y</td>\n",
       "      <td>0</td>\n",
       "    </tr>\n",
       "    <tr>\n",
       "      <th>100533</th>\n",
       "      <td>128259</td>\n",
       "      <td>11050</td>\n",
       "      <td>Yesterday evening I received a call from unkno...</td>\n",
       "      <td>7</td>\n",
       "      <td>bonding</td>\n",
       "      <td>71</td>\n",
       "      <td>65</td>\n",
       "      <td>IND</td>\n",
       "      <td>m</td>\n",
       "      <td>married</td>\n",
       "      <td>y</td>\n",
       "      <td>0</td>\n",
       "    </tr>\n",
       "    <tr>\n",
       "      <th>100534</th>\n",
       "      <td>128759</td>\n",
       "      <td>11050</td>\n",
       "      <td>I am fond of seeing cricket match. Yesterday t...</td>\n",
       "      <td>6</td>\n",
       "      <td>enjoy_the_moment</td>\n",
       "      <td>49</td>\n",
       "      <td>65</td>\n",
       "      <td>IND</td>\n",
       "      <td>m</td>\n",
       "      <td>married</td>\n",
       "      <td>y</td>\n",
       "      <td>0</td>\n",
       "    </tr>\n",
       "  </tbody>\n",
       "</table>\n",
       "<p>100535 rows × 12 columns</p>\n",
       "</div>"
      ],
      "text/plain": [
       "          hmid    wid                                         cleaned_hm  \\\n",
       "0        27673   2053  I went on a successful date with someone I fel...   \n",
       "1        27873   2053  I played a new game that was fun and got to en...   \n",
       "2        28073   2053  I listened to some music and heard an entire a...   \n",
       "3        33522   2053                 Went to see a movie with my friend   \n",
       "4        34522   2053               Played guitar, learning a song on it   \n",
       "...        ...    ...                                                ...   \n",
       "100530  128251  11402       Was told I was a great employee by my boss.    \n",
       "100531  128751  11402                                     Fixed my car.    \n",
       "100532  127759  11050  Four year back I lost my job. Now I am living ...   \n",
       "100533  128259  11050  Yesterday evening I received a call from unkno...   \n",
       "100534  128759  11050  I am fond of seeing cricket match. Yesterday t...   \n",
       "\n",
       "        num_sentence predicted_category  length age country gender  marital  \\\n",
       "0                  1          affection      14  35     USA      m   single   \n",
       "1                  1            leisure      16  35     USA      m   single   \n",
       "2                  1            leisure      17  35     USA      m   single   \n",
       "3                  1            bonding       8  35     USA      m   single   \n",
       "4                  1            leisure       7  35     USA      m   single   \n",
       "...              ...                ...     ...  ..     ...    ...      ...   \n",
       "100530             1        achievement      10  32     USA      m  married   \n",
       "100531             1        achievement       3  32     USA      m  married   \n",
       "100532             6        achievement      58  65     IND      m  married   \n",
       "100533             7            bonding      71  65     IND      m  married   \n",
       "100534             6   enjoy_the_moment      49  65     IND      m  married   \n",
       "\n",
       "       parenthood reflection_period  \n",
       "0               n                 0  \n",
       "1               n                 0  \n",
       "2               n                 0  \n",
       "3               n                 0  \n",
       "4               n                 0  \n",
       "...           ...               ...  \n",
       "100530          n                 0  \n",
       "100531          n                 0  \n",
       "100532          y                 0  \n",
       "100533          y                 0  \n",
       "100534          y                 0  \n",
       "\n",
       "[100535 rows x 12 columns]"
      ]
     },
     "execution_count": 179,
     "metadata": {},
     "output_type": "execute_result"
    }
   ],
   "source": [
    "cleaned_hm"
   ]
  },
  {
   "cell_type": "code",
   "execution_count": 182,
   "metadata": {},
   "outputs": [
    {
     "data": {
      "text/plain": [
       "single       54106\n",
       "married      41343\n",
       "divorced      3803\n",
       "separated      649\n",
       "widowed        477\n",
       "Name: marital, dtype: int64"
      ]
     },
     "execution_count": 182,
     "metadata": {},
     "output_type": "execute_result"
    }
   ],
   "source": [
    "cleaned_hm[\"marital\"].value_counts()"
   ]
  },
  {
   "cell_type": "code",
   "execution_count": 185,
   "metadata": {},
   "outputs": [],
   "source": [
    "# Dividing the data between two categories i.e. married and unmarried\n",
    "cleaned_hm.loc[happy['marital']=='single', 'marital']=0\n",
    "cleaned_hm.loc[happy['marital']=='married', 'marital']=1\n",
    "cleaned_hm.loc[happy['marital']=='separated', 'marital']=0\n",
    "cleaned_hm.loc[happy['marital']=='divorced', 'marital']=0\n",
    "cleaned_hm.loc[happy['marital']=='widowed', 'marital']=0"
   ]
  },
  {
   "cell_type": "code",
   "execution_count": 186,
   "metadata": {},
   "outputs": [],
   "source": [
    "cleaned_hm['marital'].dropna(inplace=True) #Dropping NA values"
   ]
  },
  {
   "cell_type": "code",
   "execution_count": 188,
   "metadata": {},
   "outputs": [
    {
     "data": {
      "text/plain": [
       "0    59035\n",
       "1    41343\n",
       "Name: marital, dtype: int64"
      ]
     },
     "execution_count": 188,
     "metadata": {},
     "output_type": "execute_result"
    }
   ],
   "source": [
    "cleaned_hm[\"marital\"].value_counts()"
   ]
  },
  {
   "cell_type": "code",
   "execution_count": 190,
   "metadata": {},
   "outputs": [
    {
     "data": {
      "text/plain": [
       "m    57690\n",
       "f    42069\n",
       "o      697\n",
       "Name: gender, dtype: int64"
      ]
     },
     "execution_count": 190,
     "metadata": {},
     "output_type": "execute_result"
    }
   ],
   "source": [
    "cleaned_hm[\"gender\"].value_counts()"
   ]
  },
  {
   "cell_type": "code",
   "execution_count": 112,
   "metadata": {},
   "outputs": [],
   "source": [
    "# Dividing the data betwen 2 categories i.e. female and others\n",
    "cleaned_hm.loc[cleaned_hm['gender']=='m', 'gender']=0\n",
    "cleaned_hm.loc[cleaned_hm['gender']=='f', 'gender']=1\n",
    "cleaned_hm.loc[cleaned_hm['gender']=='o', 'gender']=0"
   ]
  },
  {
   "cell_type": "code",
   "execution_count": 192,
   "metadata": {},
   "outputs": [
    {
     "data": {
      "text/plain": [
       "affection           34168\n",
       "achievement         33993\n",
       "enjoy_the_moment    11144\n",
       "bonding             10727\n",
       "leisure              7458\n",
       "nature               1843\n",
       "exercise             1202\n",
       "Name: predicted_category, dtype: int64"
      ]
     },
     "execution_count": 192,
     "metadata": {},
     "output_type": "execute_result"
    }
   ],
   "source": [
    "cleaned_hm[\"predicted_category\"].value_counts()"
   ]
  },
  {
   "cell_type": "code",
   "execution_count": 194,
   "metadata": {},
   "outputs": [],
   "source": [
    "# Giving numbers to all categories for easier understanding\n",
    "cleaned_hm.loc[cleaned_hm['predicted_category']=='achievement', 'predicted_category']=1\n",
    "cleaned_hm.loc[cleaned_hm['predicted_category']=='affection', 'predicted_category']=2\n",
    "cleaned_hm.loc[cleaned_hm['predicted_category']=='bonding', 'predicted_category']=3\n",
    "cleaned_hm.loc[cleaned_hm['predicted_category']=='enjoy_the_moment', 'predicted_category']=4\n",
    "cleaned_hm.loc[cleaned_hm['predicted_category']=='exercise', 'predicted_category']=5\n",
    "cleaned_hm.loc[cleaned_hm['predicted_category']=='leisure', 'predicted_category']=6\n",
    "cleaned_hm.loc[cleaned_hm['predicted_category']=='nature', 'predicted_category']=7"
   ]
  },
  {
   "cell_type": "code",
   "execution_count": 196,
   "metadata": {},
   "outputs": [
    {
     "data": {
      "text/plain": [
       "n    60937\n",
       "y    39520\n",
       "Name: parenthood, dtype: int64"
      ]
     },
     "execution_count": 196,
     "metadata": {},
     "output_type": "execute_result"
    }
   ],
   "source": [
    "cleaned_hm[\"parenthood\"].value_counts()"
   ]
  },
  {
   "cell_type": "code",
   "execution_count": 197,
   "metadata": {},
   "outputs": [
    {
     "data": {
      "text/html": [
       "<div>\n",
       "<style scoped>\n",
       "    .dataframe tbody tr th:only-of-type {\n",
       "        vertical-align: middle;\n",
       "    }\n",
       "\n",
       "    .dataframe tbody tr th {\n",
       "        vertical-align: top;\n",
       "    }\n",
       "\n",
       "    .dataframe thead th {\n",
       "        text-align: right;\n",
       "    }\n",
       "</style>\n",
       "<table border=\"1\" class=\"dataframe\">\n",
       "  <thead>\n",
       "    <tr style=\"text-align: right;\">\n",
       "      <th></th>\n",
       "      <th>hmid</th>\n",
       "      <th>wid</th>\n",
       "      <th>cleaned_hm</th>\n",
       "      <th>num_sentence</th>\n",
       "      <th>predicted_category</th>\n",
       "      <th>length</th>\n",
       "      <th>age</th>\n",
       "      <th>country</th>\n",
       "      <th>gender</th>\n",
       "      <th>marital</th>\n",
       "      <th>parenthood</th>\n",
       "      <th>reflection_period</th>\n",
       "    </tr>\n",
       "  </thead>\n",
       "  <tbody>\n",
       "    <tr>\n",
       "      <th>0</th>\n",
       "      <td>27673</td>\n",
       "      <td>2053</td>\n",
       "      <td>I went on a successful date with someone I fel...</td>\n",
       "      <td>1</td>\n",
       "      <td>2</td>\n",
       "      <td>14</td>\n",
       "      <td>35</td>\n",
       "      <td>USA</td>\n",
       "      <td>m</td>\n",
       "      <td>0</td>\n",
       "      <td>n</td>\n",
       "      <td>0</td>\n",
       "    </tr>\n",
       "    <tr>\n",
       "      <th>1</th>\n",
       "      <td>27873</td>\n",
       "      <td>2053</td>\n",
       "      <td>I played a new game that was fun and got to en...</td>\n",
       "      <td>1</td>\n",
       "      <td>6</td>\n",
       "      <td>16</td>\n",
       "      <td>35</td>\n",
       "      <td>USA</td>\n",
       "      <td>m</td>\n",
       "      <td>0</td>\n",
       "      <td>n</td>\n",
       "      <td>0</td>\n",
       "    </tr>\n",
       "    <tr>\n",
       "      <th>2</th>\n",
       "      <td>28073</td>\n",
       "      <td>2053</td>\n",
       "      <td>I listened to some music and heard an entire a...</td>\n",
       "      <td>1</td>\n",
       "      <td>6</td>\n",
       "      <td>17</td>\n",
       "      <td>35</td>\n",
       "      <td>USA</td>\n",
       "      <td>m</td>\n",
       "      <td>0</td>\n",
       "      <td>n</td>\n",
       "      <td>0</td>\n",
       "    </tr>\n",
       "    <tr>\n",
       "      <th>3</th>\n",
       "      <td>33522</td>\n",
       "      <td>2053</td>\n",
       "      <td>Went to see a movie with my friend</td>\n",
       "      <td>1</td>\n",
       "      <td>3</td>\n",
       "      <td>8</td>\n",
       "      <td>35</td>\n",
       "      <td>USA</td>\n",
       "      <td>m</td>\n",
       "      <td>0</td>\n",
       "      <td>n</td>\n",
       "      <td>0</td>\n",
       "    </tr>\n",
       "    <tr>\n",
       "      <th>4</th>\n",
       "      <td>34522</td>\n",
       "      <td>2053</td>\n",
       "      <td>Played guitar, learning a song on it</td>\n",
       "      <td>1</td>\n",
       "      <td>6</td>\n",
       "      <td>7</td>\n",
       "      <td>35</td>\n",
       "      <td>USA</td>\n",
       "      <td>m</td>\n",
       "      <td>0</td>\n",
       "      <td>n</td>\n",
       "      <td>0</td>\n",
       "    </tr>\n",
       "  </tbody>\n",
       "</table>\n",
       "</div>"
      ],
      "text/plain": [
       "    hmid   wid                                         cleaned_hm  \\\n",
       "0  27673  2053  I went on a successful date with someone I fel...   \n",
       "1  27873  2053  I played a new game that was fun and got to en...   \n",
       "2  28073  2053  I listened to some music and heard an entire a...   \n",
       "3  33522  2053                 Went to see a movie with my friend   \n",
       "4  34522  2053               Played guitar, learning a song on it   \n",
       "\n",
       "   num_sentence predicted_category  length age country gender marital  \\\n",
       "0             1                  2      14  35     USA      m       0   \n",
       "1             1                  6      16  35     USA      m       0   \n",
       "2             1                  6      17  35     USA      m       0   \n",
       "3             1                  3       8  35     USA      m       0   \n",
       "4             1                  6       7  35     USA      m       0   \n",
       "\n",
       "  parenthood reflection_period  \n",
       "0          n                 0  \n",
       "1          n                 0  \n",
       "2          n                 0  \n",
       "3          n                 0  \n",
       "4          n                 0  "
      ]
     },
     "execution_count": 197,
     "metadata": {},
     "output_type": "execute_result"
    }
   ],
   "source": [
    "cleaned_hm.head()"
   ]
  },
  {
   "cell_type": "code",
   "execution_count": 199,
   "metadata": {},
   "outputs": [],
   "source": [
    "#Giving numbers to parenthood for easier understanding and manipulation\n",
    "cleaned_hm.loc[cleaned_hm['parenthood']=='n', 'parenthood']=0\n",
    "cleaned_hm.loc[cleaned_hm['parenthood']=='y', 'parenthood']=1"
   ]
  },
  {
   "cell_type": "code",
   "execution_count": 201,
   "metadata": {},
   "outputs": [
    {
     "data": {
      "text/plain": [
       "USA    79063\n",
       "IND    16729\n",
       "VEN      588\n",
       "CAN      555\n",
       "GBR      364\n",
       "       ...  \n",
       "SLV        3\n",
       "TUN        3\n",
       "LVA        3\n",
       "ECU        3\n",
       "IRQ        3\n",
       "Name: country, Length: 100, dtype: int64"
      ]
     },
     "execution_count": 201,
     "metadata": {},
     "output_type": "execute_result"
    }
   ],
   "source": [
    "cleaned_hm[\"country\"].value_counts()"
   ]
  },
  {
   "cell_type": "code",
   "execution_count": 215,
   "metadata": {},
   "outputs": [],
   "source": [
    "#Changing the first 5 countries to numbers \n",
    "cleaned_hm.loc[cleaned_hm['country']=='USA', 'country']=1\n",
    "cleaned_hm.loc[cleaned_hm['country']=='IND', 'country']=0\n",
    "cleaned_hm.loc[cleaned_hm['country']=='VEN', 'country']=0\n",
    "cleaned_hm.loc[cleaned_hm['country']=='CAN', 'country']=0\n",
    "cleaned_hm.loc[cleaned_hm['country']=='GBR', 'country']=0\n"
   ]
  },
  {
   "cell_type": "code",
   "execution_count": 203,
   "metadata": {},
   "outputs": [
    {
     "data": {
      "text/plain": [
       "1      79063\n",
       "0      18236\n",
       "PHL      279\n",
       "MEX      150\n",
       "VNM      126\n",
       "       ...  \n",
       "HKG        3\n",
       "SLV        3\n",
       "GHA        3\n",
       "ZMB        3\n",
       "VIR        3\n",
       "Name: country, Length: 97, dtype: int64"
      ]
     },
     "execution_count": 203,
     "metadata": {},
     "output_type": "execute_result"
    }
   ],
   "source": [
    "cleaned_hm[\"country\"].value_counts()"
   ]
  },
  {
   "cell_type": "code",
   "execution_count": 205,
   "metadata": {},
   "outputs": [],
   "source": [
    "#chaging country values to 0 if its a string\n",
    "def convert_string(x):\n",
    "    if isinstance(x, str) == True:\n",
    "        return 0\n",
    "    else: return x\n",
    "cleaned_hm['country']=cleaned_hm['country'].apply(lambda x: convert_string(x))"
   ]
  },
  {
   "cell_type": "code",
   "execution_count": 206,
   "metadata": {},
   "outputs": [
    {
     "data": {
      "text/plain": [
       "0         1.0\n",
       "1         1.0\n",
       "2         1.0\n",
       "3         1.0\n",
       "4         1.0\n",
       "         ... \n",
       "100530    1.0\n",
       "100531    1.0\n",
       "100532    0.0\n",
       "100533    0.0\n",
       "100534    0.0\n",
       "Name: country, Length: 100535, dtype: float64"
      ]
     },
     "execution_count": 206,
     "metadata": {},
     "output_type": "execute_result"
    }
   ],
   "source": [
    "cleaned_hm['country'] "
   ]
  },
  {
   "cell_type": "code",
   "execution_count": 208,
   "metadata": {},
   "outputs": [
    {
     "data": {
      "text/plain": [
       "1.0    79063\n",
       "0.0    21269\n",
       "Name: country, dtype: int64"
      ]
     },
     "execution_count": 208,
     "metadata": {},
     "output_type": "execute_result"
    }
   ],
   "source": [
    "cleaned_hm[\"country\"].value_counts()"
   ]
  },
  {
   "cell_type": "code",
   "execution_count": 210,
   "metadata": {},
   "outputs": [
    {
     "data": {
      "text/html": [
       "<div>\n",
       "<style scoped>\n",
       "    .dataframe tbody tr th:only-of-type {\n",
       "        vertical-align: middle;\n",
       "    }\n",
       "\n",
       "    .dataframe tbody tr th {\n",
       "        vertical-align: top;\n",
       "    }\n",
       "\n",
       "    .dataframe thead th {\n",
       "        text-align: right;\n",
       "    }\n",
       "</style>\n",
       "<table border=\"1\" class=\"dataframe\">\n",
       "  <thead>\n",
       "    <tr style=\"text-align: right;\">\n",
       "      <th></th>\n",
       "      <th>hmid</th>\n",
       "      <th>wid</th>\n",
       "      <th>cleaned_hm</th>\n",
       "      <th>num_sentence</th>\n",
       "      <th>predicted_category</th>\n",
       "      <th>length</th>\n",
       "      <th>age</th>\n",
       "      <th>country</th>\n",
       "      <th>gender</th>\n",
       "      <th>marital</th>\n",
       "      <th>parenthood</th>\n",
       "      <th>reflection_period</th>\n",
       "    </tr>\n",
       "  </thead>\n",
       "  <tbody>\n",
       "    <tr>\n",
       "      <th>0</th>\n",
       "      <td>27673</td>\n",
       "      <td>2053</td>\n",
       "      <td>I went on a successful date with someone I fel...</td>\n",
       "      <td>1</td>\n",
       "      <td>2</td>\n",
       "      <td>14</td>\n",
       "      <td>1</td>\n",
       "      <td>1.0</td>\n",
       "      <td>m</td>\n",
       "      <td>0</td>\n",
       "      <td>0</td>\n",
       "      <td>0</td>\n",
       "    </tr>\n",
       "  </tbody>\n",
       "</table>\n",
       "</div>"
      ],
      "text/plain": [
       "    hmid   wid                                         cleaned_hm  \\\n",
       "0  27673  2053  I went on a successful date with someone I fel...   \n",
       "\n",
       "   num_sentence predicted_category  length  age  country gender marital  \\\n",
       "0             1                  2      14    1      1.0      m       0   \n",
       "\n",
       "  parenthood reflection_period  \n",
       "0          0                 0  "
      ]
     },
     "execution_count": 210,
     "metadata": {},
     "output_type": "execute_result"
    }
   ],
   "source": [
    "#Dividing the age into 2 categories i.e less than 25, greater than or equal to 25\n",
    "for i in range(len(cleaned_hm)):\n",
    "    cleaned_hm['age']=int(cleaned_hm['age'][i]) #typecasting age from string to int\n",
    "cleaned_hm=cleaned_hm[cleaned_hm['age']<150] # Drop rows with age > 150 years\n",
    "cleaned_hm.loc[cleaned_hm['age']<25,  'age']=0\n",
    "cleaned_hm.loc[cleaned_hm['age']>=25, 'age']=1\n",
    "cleaned_hm.head(1)\n"
   ]
  },
  {
   "cell_type": "code",
   "execution_count": 125,
   "metadata": {},
   "outputs": [
    {
     "data": {
      "text/plain": [
       "100535"
      ]
     },
     "execution_count": 125,
     "metadata": {},
     "output_type": "execute_result"
    }
   ],
   "source": [
    "len(cleaned_hm)"
   ]
  },
  {
   "cell_type": "code",
   "execution_count": null,
   "metadata": {},
   "outputs": [],
   "source": [
    "#VISUALIZATION "
   ]
  },
  {
   "cell_type": "code",
   "execution_count": 132,
   "metadata": {},
   "outputs": [
    {
     "data": {
      "text/plain": [
       "<matplotlib.axes._subplots.AxesSubplot at 0x17137ff1bc8>"
      ]
     },
     "execution_count": 132,
     "metadata": {},
     "output_type": "execute_result"
    },
    {
     "data": {
      "image/png": "[encoded data removed]",
      "text/plain": [
       "<Figure size 1152x216 with 3 Axes>"
      ]
     },
     "metadata": {
      "needs_background": "light"
     },
     "output_type": "display_data"
    }
   ],
   "source": [
    "#Distribution of predicted_category, length and num_sentence\n",
    "fig, (axis1,axis2, axis3) = plt.subplots(1,3,figsize=(16,3))\n",
    "sns.distplot(cleaned_hm['predicted_category'], bins=20, ax=axis1,kde_kws={'bw':0.1})\n",
    "sns.distplot(cleaned_hm['length'], bins=20, ax=axis2,kde_kws={'bw':0.1})\n",
    "sns.distplot(cleaned_hm['num_sentence'], bins=20, ax=axis3,kde_kws={'bw':0.1})"
   ]
  },
  {
   "cell_type": "code",
   "execution_count": 133,
   "metadata": {},
   "outputs": [
    {
     "data": {
      "text/plain": [
       "<seaborn.axisgrid.FacetGrid at 0x171380e5d48>"
      ]
     },
     "execution_count": 133,
     "metadata": {},
     "output_type": "execute_result"
    },
    {
     "data": {
      "image/png": "[encoded data removed]",
      "text/plain": [
       "<Figure size 432x216 with 2 Axes>"
      ]
     },
     "metadata": {
      "needs_background": "light"
     },
     "output_type": "display_data"
    }
   ],
   "source": [
    "#Bi-variate analysis\n",
    "g = sns.FacetGrid(data=cleaned_hm, col='marital')\n",
    "g.map(plt.hist,'predicted_category', bins=50)"
   ]
  },
  {
   "cell_type": "code",
   "execution_count": 134,
   "metadata": {},
   "outputs": [
    {
     "data": {
      "text/plain": [
       "<matplotlib.axes._subplots.AxesSubplot at 0x1713827dec8>"
      ]
     },
     "execution_count": 134,
     "metadata": {},
     "output_type": "execute_result"
    },
    {
     "data": {
      "image/png": "[encoded data removed]",
      "text/plain": [
       "<Figure size 432x288 with 1 Axes>"
      ]
     },
     "metadata": {
      "needs_background": "light"
     },
     "output_type": "display_data"
    }
   ],
   "source": [
    "sns.boxplot(x='predicted_category', y='length', data=cleaned_hm, palette = 'viridis')"
   ]
  },
  {
   "cell_type": "code",
   "execution_count": 135,
   "metadata": {},
   "outputs": [
    {
     "data": {
      "text/plain": [
       "<matplotlib.axes._subplots.AxesSubplot at 0x17131066208>"
      ]
     },
     "execution_count": 135,
     "metadata": {},
     "output_type": "execute_result"
    },
    {
     "data": {
      "image/png": "[encoded data removed]",
      "text/plain": [
       "<Figure size 432x288 with 2 Axes>"
      ]
     },
     "metadata": {
      "needs_background": "light"
     },
     "output_type": "display_data"
    }
   ],
   "source": [
    "cleaned_hm2 = cleaned_hm.drop({'hmid', 'wid', 'num_sentence'}, axis=1)\n",
    "sns.heatmap(cleaned_hm2.groupby('predicted_category').mean().corr(), cmap='coolwarm')"
   ]
  },
  {
   "cell_type": "code",
   "execution_count": 136,
   "metadata": {},
   "outputs": [
    {
     "data": {
      "text/html": [
       "<div>\n",
       "<style scoped>\n",
       "    .dataframe tbody tr th:only-of-type {\n",
       "        vertical-align: middle;\n",
       "    }\n",
       "\n",
       "    .dataframe tbody tr th {\n",
       "        vertical-align: top;\n",
       "    }\n",
       "\n",
       "    .dataframe thead th {\n",
       "        text-align: right;\n",
       "    }\n",
       "</style>\n",
       "<table border=\"1\" class=\"dataframe\">\n",
       "  <thead>\n",
       "    <tr style=\"text-align: right;\">\n",
       "      <th></th>\n",
       "      <th>hmid</th>\n",
       "      <th>wid</th>\n",
       "      <th>cleaned_hm</th>\n",
       "      <th>num_sentence</th>\n",
       "      <th>predicted_category</th>\n",
       "      <th>length</th>\n",
       "      <th>age</th>\n",
       "      <th>country</th>\n",
       "      <th>gender</th>\n",
       "      <th>marital</th>\n",
       "      <th>parenthood</th>\n",
       "      <th>reflection_period</th>\n",
       "    </tr>\n",
       "  </thead>\n",
       "  <tbody>\n",
       "    <tr>\n",
       "      <th>0</th>\n",
       "      <td>27673</td>\n",
       "      <td>2053</td>\n",
       "      <td>I went on a successful date with someone I fel...</td>\n",
       "      <td>1</td>\n",
       "      <td>2</td>\n",
       "      <td>14</td>\n",
       "      <td>1</td>\n",
       "      <td>1.0</td>\n",
       "      <td>0</td>\n",
       "      <td>0</td>\n",
       "      <td>0</td>\n",
       "      <td>0</td>\n",
       "    </tr>\n",
       "    <tr>\n",
       "      <th>1</th>\n",
       "      <td>27873</td>\n",
       "      <td>2053</td>\n",
       "      <td>I played a new game that was fun and got to en...</td>\n",
       "      <td>1</td>\n",
       "      <td>6</td>\n",
       "      <td>16</td>\n",
       "      <td>1</td>\n",
       "      <td>1.0</td>\n",
       "      <td>0</td>\n",
       "      <td>0</td>\n",
       "      <td>0</td>\n",
       "      <td>0</td>\n",
       "    </tr>\n",
       "    <tr>\n",
       "      <th>2</th>\n",
       "      <td>28073</td>\n",
       "      <td>2053</td>\n",
       "      <td>I listened to some music and heard an entire a...</td>\n",
       "      <td>1</td>\n",
       "      <td>6</td>\n",
       "      <td>17</td>\n",
       "      <td>1</td>\n",
       "      <td>1.0</td>\n",
       "      <td>0</td>\n",
       "      <td>0</td>\n",
       "      <td>0</td>\n",
       "      <td>0</td>\n",
       "    </tr>\n",
       "    <tr>\n",
       "      <th>3</th>\n",
       "      <td>33522</td>\n",
       "      <td>2053</td>\n",
       "      <td>Went to see a movie with my friend</td>\n",
       "      <td>1</td>\n",
       "      <td>3</td>\n",
       "      <td>8</td>\n",
       "      <td>1</td>\n",
       "      <td>1.0</td>\n",
       "      <td>0</td>\n",
       "      <td>0</td>\n",
       "      <td>0</td>\n",
       "      <td>0</td>\n",
       "    </tr>\n",
       "    <tr>\n",
       "      <th>4</th>\n",
       "      <td>34522</td>\n",
       "      <td>2053</td>\n",
       "      <td>Played guitar, learning a song on it</td>\n",
       "      <td>1</td>\n",
       "      <td>6</td>\n",
       "      <td>7</td>\n",
       "      <td>1</td>\n",
       "      <td>1.0</td>\n",
       "      <td>0</td>\n",
       "      <td>0</td>\n",
       "      <td>0</td>\n",
       "      <td>0</td>\n",
       "    </tr>\n",
       "    <tr>\n",
       "      <th>...</th>\n",
       "      <td>...</td>\n",
       "      <td>...</td>\n",
       "      <td>...</td>\n",
       "      <td>...</td>\n",
       "      <td>...</td>\n",
       "      <td>...</td>\n",
       "      <td>...</td>\n",
       "      <td>...</td>\n",
       "      <td>...</td>\n",
       "      <td>...</td>\n",
       "      <td>...</td>\n",
       "      <td>...</td>\n",
       "    </tr>\n",
       "    <tr>\n",
       "      <th>100530</th>\n",
       "      <td>128251</td>\n",
       "      <td>11402</td>\n",
       "      <td>Was told I was a great employee by my boss.</td>\n",
       "      <td>1</td>\n",
       "      <td>1</td>\n",
       "      <td>10</td>\n",
       "      <td>1</td>\n",
       "      <td>1.0</td>\n",
       "      <td>0</td>\n",
       "      <td>1</td>\n",
       "      <td>0</td>\n",
       "      <td>0</td>\n",
       "    </tr>\n",
       "    <tr>\n",
       "      <th>100531</th>\n",
       "      <td>128751</td>\n",
       "      <td>11402</td>\n",
       "      <td>Fixed my car.</td>\n",
       "      <td>1</td>\n",
       "      <td>1</td>\n",
       "      <td>3</td>\n",
       "      <td>1</td>\n",
       "      <td>1.0</td>\n",
       "      <td>0</td>\n",
       "      <td>1</td>\n",
       "      <td>0</td>\n",
       "      <td>0</td>\n",
       "    </tr>\n",
       "    <tr>\n",
       "      <th>100532</th>\n",
       "      <td>127759</td>\n",
       "      <td>11050</td>\n",
       "      <td>Four year back I lost my job. Now I am living ...</td>\n",
       "      <td>6</td>\n",
       "      <td>1</td>\n",
       "      <td>58</td>\n",
       "      <td>1</td>\n",
       "      <td>0.0</td>\n",
       "      <td>0</td>\n",
       "      <td>1</td>\n",
       "      <td>1</td>\n",
       "      <td>0</td>\n",
       "    </tr>\n",
       "    <tr>\n",
       "      <th>100533</th>\n",
       "      <td>128259</td>\n",
       "      <td>11050</td>\n",
       "      <td>Yesterday evening I received a call from unkno...</td>\n",
       "      <td>7</td>\n",
       "      <td>3</td>\n",
       "      <td>71</td>\n",
       "      <td>1</td>\n",
       "      <td>0.0</td>\n",
       "      <td>0</td>\n",
       "      <td>1</td>\n",
       "      <td>1</td>\n",
       "      <td>0</td>\n",
       "    </tr>\n",
       "    <tr>\n",
       "      <th>100534</th>\n",
       "      <td>128759</td>\n",
       "      <td>11050</td>\n",
       "      <td>I am fond of seeing cricket match. Yesterday t...</td>\n",
       "      <td>6</td>\n",
       "      <td>4</td>\n",
       "      <td>49</td>\n",
       "      <td>1</td>\n",
       "      <td>0.0</td>\n",
       "      <td>0</td>\n",
       "      <td>1</td>\n",
       "      <td>1</td>\n",
       "      <td>0</td>\n",
       "    </tr>\n",
       "  </tbody>\n",
       "</table>\n",
       "<p>100535 rows × 12 columns</p>\n",
       "</div>"
      ],
      "text/plain": [
       "          hmid    wid                                         cleaned_hm  \\\n",
       "0        27673   2053  I went on a successful date with someone I fel...   \n",
       "1        27873   2053  I played a new game that was fun and got to en...   \n",
       "2        28073   2053  I listened to some music and heard an entire a...   \n",
       "3        33522   2053                 Went to see a movie with my friend   \n",
       "4        34522   2053               Played guitar, learning a song on it   \n",
       "...        ...    ...                                                ...   \n",
       "100530  128251  11402       Was told I was a great employee by my boss.    \n",
       "100531  128751  11402                                     Fixed my car.    \n",
       "100532  127759  11050  Four year back I lost my job. Now I am living ...   \n",
       "100533  128259  11050  Yesterday evening I received a call from unkno...   \n",
       "100534  128759  11050  I am fond of seeing cricket match. Yesterday t...   \n",
       "\n",
       "        num_sentence predicted_category  length  age  country gender marital  \\\n",
       "0                  1                  2      14    1      1.0      0       0   \n",
       "1                  1                  6      16    1      1.0      0       0   \n",
       "2                  1                  6      17    1      1.0      0       0   \n",
       "3                  1                  3       8    1      1.0      0       0   \n",
       "4                  1                  6       7    1      1.0      0       0   \n",
       "...              ...                ...     ...  ...      ...    ...     ...   \n",
       "100530             1                  1      10    1      1.0      0       1   \n",
       "100531             1                  1       3    1      1.0      0       1   \n",
       "100532             6                  1      58    1      0.0      0       1   \n",
       "100533             7                  3      71    1      0.0      0       1   \n",
       "100534             6                  4      49    1      0.0      0       1   \n",
       "\n",
       "       parenthood reflection_period  \n",
       "0               0                 0  \n",
       "1               0                 0  \n",
       "2               0                 0  \n",
       "3               0                 0  \n",
       "4               0                 0  \n",
       "...           ...               ...  \n",
       "100530          0                 0  \n",
       "100531          0                 0  \n",
       "100532          1                 0  \n",
       "100533          1                 0  \n",
       "100534          1                 0  \n",
       "\n",
       "[100535 rows x 12 columns]"
      ]
     },
     "execution_count": 136,
     "metadata": {},
     "output_type": "execute_result"
    }
   ],
   "source": [
    "cleaned_hm"
   ]
  },
  {
   "cell_type": "code",
   "execution_count": 143,
   "metadata": {},
   "outputs": [],
   "source": [
    "#Classifier\n",
    "i=11 # Selecting feature in this column (counting from 0)\n",
    "cleaned_class = cleaned_hm[(cleaned_hm.iloc[:,i]==0) | (cleaned_hm.iloc[:,i]==1)]\n",
    "X=cleaned_class['cleaned_hm']\n",
    "y=cleaned_class.iloc[:,i]\n",
    "y = np.asarray(y,dtype=np.float64) # Convert y to float64 format"
   ]
  },
  {
   "cell_type": "code",
   "execution_count": 146,
   "metadata": {},
   "outputs": [],
   "source": [
    "CV = CountVectorizer()"
   ]
  },
  {
   "cell_type": "code",
   "execution_count": 147,
   "metadata": {},
   "outputs": [],
   "source": [
    "X = CV.fit_transform(X)"
   ]
  },
  {
   "cell_type": "code",
   "execution_count": 150,
   "metadata": {},
   "outputs": [],
   "source": [
    "X_train, X_test, y_train, y_test = train_test_split(X, y, test_size=0.3, random_state=101)"
   ]
  },
  {
   "cell_type": "code",
   "execution_count": 153,
   "metadata": {},
   "outputs": [],
   "source": [
    "nb = MultinomialNB()"
   ]
  },
  {
   "cell_type": "code",
   "execution_count": 154,
   "metadata": {},
   "outputs": [
    {
     "data": {
      "text/plain": [
       "MultinomialNB(alpha=1.0, class_prior=None, fit_prior=True)"
      ]
     },
     "execution_count": 154,
     "metadata": {},
     "output_type": "execute_result"
    }
   ],
   "source": [
    "nb.fit(X_train, y_train)"
   ]
  },
  {
   "cell_type": "code",
   "execution_count": 155,
   "metadata": {},
   "outputs": [
    {
     "name": "stdout",
     "output_type": "stream",
     "text": [
      "Classification Report \n",
      "               precision    recall  f1-score   support\n",
      "\n",
      "         0.0       0.65      0.65      0.65     14981\n",
      "         1.0       0.65      0.65      0.65     15180\n",
      "\n",
      "    accuracy                           0.65     30161\n",
      "   macro avg       0.65      0.65      0.65     30161\n",
      "weighted avg       0.65      0.65      0.65     30161\n",
      "\n",
      "\n",
      " Confusion Matrix\n",
      "           Predicted: 0  Predicted: 1\n",
      "Actual: 0          9671          5310\n",
      "Actual: 1          5251          9929\n"
     ]
    }
   ],
   "source": [
    "predictions = nb.predict(X_test)\n",
    "acc_nb = nb.score(X_test, y_test) # Return the mean accuracy\n",
    "print('Classification Report \\n',classification_report(y_test, predictions))\n",
    "print('\\n Confusion Matrix')\n",
    "cm = pd.DataFrame(confusion_matrix(y_test, predictions), ['Actual: 0', 'Actual: 1'], ['Predicted: 0', 'Predicted: 1'])\n",
    "print(cm)"
   ]
  },
  {
   "cell_type": "code",
   "execution_count": 156,
   "metadata": {},
   "outputs": [
    {
     "data": {
      "text/plain": [
       "0.6498458273929909"
      ]
     },
     "execution_count": 156,
     "metadata": {},
     "output_type": "execute_result"
    }
   ],
   "source": [
    "acc_nb"
   ]
  },
  {
   "cell_type": "code",
   "execution_count": 157,
   "metadata": {},
   "outputs": [],
   "source": [
    "pipeline = Pipeline([\n",
    "    ('bow', CountVectorizer()),\n",
    "    ('tfidf', TfidfTransformer()),\n",
    "    ('Classifier', MultinomialNB())\n",
    "    ])"
   ]
  },
  {
   "cell_type": "code",
   "execution_count": 158,
   "metadata": {},
   "outputs": [],
   "source": [
    "i=7 # Selecting feature in this column (counting from 0)\n",
    "cleaned_class = cleaned_hm[(cleaned_hm.iloc[:,i]==0) | (cleaned_hm.iloc[:,i]==1)]\n",
    "X=cleaned_class['cleaned_hm']\n",
    "y=cleaned_class.iloc[:,i]\n",
    "y = np.asarray(y,dtype=np.float64) # Convert y to float64 format\n",
    "X_train, X_test, y_train, y_test = train_test_split(X, y, test_size=0.3, random_state=101)"
   ]
  },
  {
   "cell_type": "code",
   "execution_count": 159,
   "metadata": {},
   "outputs": [
    {
     "data": {
      "text/plain": [
       "Pipeline(memory=None,\n",
       "         steps=[('bow',\n",
       "                 CountVectorizer(analyzer='word', binary=False,\n",
       "                                 decode_error='strict',\n",
       "                                 dtype=<class 'numpy.int64'>, encoding='utf-8',\n",
       "                                 input='content', lowercase=True, max_df=1.0,\n",
       "                                 max_features=None, min_df=1,\n",
       "                                 ngram_range=(1, 1), preprocessor=None,\n",
       "                                 stop_words=None, strip_accents=None,\n",
       "                                 token_pattern='(?u)\\\\b\\\\w\\\\w+\\\\b',\n",
       "                                 tokenizer=None, vocabulary=None)),\n",
       "                ('tfidf',\n",
       "                 TfidfTransformer(norm='l2', smooth_idf=True,\n",
       "                                  sublinear_tf=False, use_idf=True)),\n",
       "                ('Classifier',\n",
       "                 MultinomialNB(alpha=1.0, class_prior=None, fit_prior=True))],\n",
       "         verbose=False)"
      ]
     },
     "execution_count": 159,
     "metadata": {},
     "output_type": "execute_result"
    }
   ],
   "source": [
    "pipeline.fit(X_train, y_train)"
   ]
  },
  {
   "cell_type": "code",
   "execution_count": 160,
   "metadata": {},
   "outputs": [
    {
     "name": "stdout",
     "output_type": "stream",
     "text": [
      "Classification Report \n",
      "               precision    recall  f1-score   support\n",
      "\n",
      "         0.0       0.94      0.30      0.46      6386\n",
      "         1.0       0.84      0.99      0.91     23714\n",
      "\n",
      "    accuracy                           0.85     30100\n",
      "   macro avg       0.89      0.65      0.68     30100\n",
      "weighted avg       0.86      0.85      0.81     30100\n",
      "\n",
      "\n",
      " Confusion Matrix\n",
      "           Predicted: 0  Predicted: 1\n",
      "Actual: 0          1929          4457\n",
      "Actual: 1           134         23580\n"
     ]
    }
   ],
   "source": [
    "predictions = pipeline.predict(X_test)\n",
    "print('Classification Report \\n',classification_report(y_test, predictions))\n",
    "print('\\n Confusion Matrix')\n",
    "cm = pd.DataFrame(confusion_matrix(y_test, predictions), ['Actual: 0', 'Actual: 1'], ['Predicted: 0', 'Predicted: 1'])\n",
    "print(cm)"
   ]
  },
  {
   "cell_type": "code",
   "execution_count": 162,
   "metadata": {},
   "outputs": [
    {
     "data": {
      "text/plain": [
       "array([0.87209302, 0.66021834, 0.68941356, 0.69871922, 0.64984583])"
      ]
     },
     "execution_count": 162,
     "metadata": {},
     "output_type": "execute_result"
    }
   ],
   "source": [
    "accuracies_data=np.arange(5.0) # Create dataframe accuracies_data to store all scores\n",
    "for i in range(7,12):\n",
    "    # 1 Extract column i of happy dataframe only for values equal to 0 or 1, then split test from train data\n",
    "    cleaned_class = cleaned_hm[(cleaned_hm.iloc[:,i]==0) | (cleaned_hm.iloc[:,i]==1)]\n",
    "    X = cleaned_class['cleaned_hm'] # Text column only\n",
    "    y = cleaned_class.iloc[:,i]\n",
    "    y = np.asarray(y, dtype=np.float64)\n",
    "    # Create vectors with frequency info for each text description\n",
    "    CV = CountVectorizer()\n",
    "    X  = CV.fit_transform(X) # creates vectors with frequency info for each rating text description\n",
    "    \n",
    "    # 2 Train Test Split, create instance and train classifier\n",
    "    X_train, X_test, y_train, y_test = train_test_split(X, y, test_size=0.3, random_state=101)\n",
    "    nb = MultinomialNB()\n",
    "    nb.fit(X_train, y_train)\n",
    "\n",
    "    # 3 Apply predictor for test data\n",
    "    predictions = nb.predict(X_test)\n",
    "    accuracies_data[i-7] = nb.score(X_test, y_test)\n",
    "accuracies_data"
   ]
  },
  {
   "cell_type": "code",
   "execution_count": 163,
   "metadata": {},
   "outputs": [
    {
     "data": {
      "image/png": "[encoded data removed]",
      "text/plain": [
       "<Figure size 864x216 with 1 Axes>"
      ]
     },
     "metadata": {
      "needs_background": "light"
     },
     "output_type": "display_data"
    }
   ],
   "source": [
    "accuracies_data = accuracies_data.round(4) # Round all values to 4 digits\n",
    "objects = ('country (USA or not)',\n",
    "           'gender (female or male/other)',\n",
    "           'marital (married or not)',\n",
    "           'parenthood (yes or no)',\n",
    "           'Reflexion (3 months or 24 hours)')\n",
    "y_pos = np.arange(len(objects))   \n",
    "plt.figure(figsize=(12,3))\n",
    "plt.barh(y_pos, accuracies_data, left = 0, align='center', alpha=0.5,\n",
    "         color=['green', 'grey', 'purple', 'orange', 'red'], tick_label= accuracies_data)\n",
    "plt.yticks(y_pos, objects, rotation='horizontal')\n",
    "plt.xticks(np.arange(0.5, 1, step=0.05))\n",
    "#plt.axes([0.2,0.1,0.9,0.9])\n",
    "plt.xlabel('Accuracy (f1-score)')\n",
    "for i, v in enumerate(accuracies_data):\n",
    "    plt.text(1, i, str(v), color='black', bbox=dict(facecolor='white', alpha=0.5))\n",
    "plt.title('Classifier Outcome')\n",
    "plt.show()"
   ]
  },
  {
   "cell_type": "code",
   "execution_count": 164,
   "metadata": {},
   "outputs": [
    {
     "data": {
      "text/html": [
       "<div>\n",
       "<style scoped>\n",
       "    .dataframe tbody tr th:only-of-type {\n",
       "        vertical-align: middle;\n",
       "    }\n",
       "\n",
       "    .dataframe tbody tr th {\n",
       "        vertical-align: top;\n",
       "    }\n",
       "\n",
       "    .dataframe thead th {\n",
       "        text-align: right;\n",
       "    }\n",
       "</style>\n",
       "<table border=\"1\" class=\"dataframe\">\n",
       "  <thead>\n",
       "    <tr style=\"text-align: right;\">\n",
       "      <th></th>\n",
       "      <th>hmid</th>\n",
       "      <th>wid</th>\n",
       "      <th>cleaned_hm</th>\n",
       "      <th>num_sentence</th>\n",
       "      <th>predicted_category</th>\n",
       "      <th>length</th>\n",
       "      <th>age</th>\n",
       "      <th>country</th>\n",
       "      <th>gender</th>\n",
       "      <th>marital</th>\n",
       "      <th>parenthood</th>\n",
       "      <th>reflection_period</th>\n",
       "    </tr>\n",
       "  </thead>\n",
       "  <tbody>\n",
       "    <tr>\n",
       "      <th>0</th>\n",
       "      <td>27673</td>\n",
       "      <td>2053</td>\n",
       "      <td>I went on a successful date with someone I fel...</td>\n",
       "      <td>1</td>\n",
       "      <td>2</td>\n",
       "      <td>14</td>\n",
       "      <td>1</td>\n",
       "      <td>1.0</td>\n",
       "      <td>0</td>\n",
       "      <td>0</td>\n",
       "      <td>0</td>\n",
       "      <td>0</td>\n",
       "    </tr>\n",
       "    <tr>\n",
       "      <th>1</th>\n",
       "      <td>27873</td>\n",
       "      <td>2053</td>\n",
       "      <td>I played a new game that was fun and got to en...</td>\n",
       "      <td>1</td>\n",
       "      <td>6</td>\n",
       "      <td>16</td>\n",
       "      <td>1</td>\n",
       "      <td>1.0</td>\n",
       "      <td>0</td>\n",
       "      <td>0</td>\n",
       "      <td>0</td>\n",
       "      <td>0</td>\n",
       "    </tr>\n",
       "    <tr>\n",
       "      <th>2</th>\n",
       "      <td>28073</td>\n",
       "      <td>2053</td>\n",
       "      <td>I listened to some music and heard an entire a...</td>\n",
       "      <td>1</td>\n",
       "      <td>6</td>\n",
       "      <td>17</td>\n",
       "      <td>1</td>\n",
       "      <td>1.0</td>\n",
       "      <td>0</td>\n",
       "      <td>0</td>\n",
       "      <td>0</td>\n",
       "      <td>0</td>\n",
       "    </tr>\n",
       "    <tr>\n",
       "      <th>3</th>\n",
       "      <td>33522</td>\n",
       "      <td>2053</td>\n",
       "      <td>Went to see a movie with my friend</td>\n",
       "      <td>1</td>\n",
       "      <td>3</td>\n",
       "      <td>8</td>\n",
       "      <td>1</td>\n",
       "      <td>1.0</td>\n",
       "      <td>0</td>\n",
       "      <td>0</td>\n",
       "      <td>0</td>\n",
       "      <td>0</td>\n",
       "    </tr>\n",
       "    <tr>\n",
       "      <th>4</th>\n",
       "      <td>34522</td>\n",
       "      <td>2053</td>\n",
       "      <td>Played guitar, learning a song on it</td>\n",
       "      <td>1</td>\n",
       "      <td>6</td>\n",
       "      <td>7</td>\n",
       "      <td>1</td>\n",
       "      <td>1.0</td>\n",
       "      <td>0</td>\n",
       "      <td>0</td>\n",
       "      <td>0</td>\n",
       "      <td>0</td>\n",
       "    </tr>\n",
       "  </tbody>\n",
       "</table>\n",
       "</div>"
      ],
      "text/plain": [
       "    hmid   wid                                         cleaned_hm  \\\n",
       "0  27673  2053  I went on a successful date with someone I fel...   \n",
       "1  27873  2053  I played a new game that was fun and got to en...   \n",
       "2  28073  2053  I listened to some music and heard an entire a...   \n",
       "3  33522  2053                 Went to see a movie with my friend   \n",
       "4  34522  2053               Played guitar, learning a song on it   \n",
       "\n",
       "   num_sentence predicted_category  length  age  country gender marital  \\\n",
       "0             1                  2      14    1      1.0      0       0   \n",
       "1             1                  6      16    1      1.0      0       0   \n",
       "2             1                  6      17    1      1.0      0       0   \n",
       "3             1                  3       8    1      1.0      0       0   \n",
       "4             1                  6       7    1      1.0      0       0   \n",
       "\n",
       "  parenthood reflection_period  \n",
       "0          0                 0  \n",
       "1          0                 0  \n",
       "2          0                 0  \n",
       "3          0                 0  \n",
       "4          0                 0  "
      ]
     },
     "execution_count": 164,
     "metadata": {},
     "output_type": "execute_result"
    }
   ],
   "source": [
    "cleaned_hm.head()"
   ]
  }
 ],
 "metadata": {
  "kernelspec": {
   "display_name": "Python 3",
   "language": "python",
   "name": "python3"
  },
  "language_info": {
   "codemirror_mode": {
    "name": "ipython",
    "version": 3
   },
   "file_extension": ".py",
   "mimetype": "text/x-python",
   "name": "python",
   "nbconvert_exporter": "python",
   "pygments_lexer": "ipython3",
   "version": "3.7.6"
  }
 },
 "nbformat": 4,
 "nbformat_minor": 4
}
