{
 "cells": [
  {
   "cell_type": "code",
   "execution_count": null,
   "metadata": {},
   "outputs": [],
   "source": [
    "import nltk\n",
    "import os\n",
    "import pandas as pd\n",
    "import pyspark.sql.functions as F\n",
    "import string\n",
    "from pyspark import sql\n",
    "from pyspark.sql.session import SparkSession\n",
    "from pyspark.context import SparkContext\n",
    "from pyspark import SparkConf\n",
    "from pyspark.ml.evaluation import RegressionEvaluator\n",
    "from pyspark.ml.recommendation import ALS\n",
    "from pyspark.ml.tuning import TrainValidationSplit, ParamGridBuilder\n",
    "from pyspark.sql.types import *\n",
    "from pyspark.ml.feature import Word2Vec, Tokenizer, StopWordsRemover, CountVectorizer, IDF\n",
    "from pyspark.ml import Pipeline, PipelineModel\n",
    "from pyspark.ml.classification import LogisticRegression, LogisticRegressionModel, NaiveBayes, NaiveBayesModel, LinearSVC, LinearSVCModel\n",
    "from pyspark.ml.clustering import LDA, LDAModel\n",
    "from pyspark.ml.evaluation import MulticlassClassificationEvaluator\n",
    "import matplotlib.pyplot as plt\n",
    "import numpy as np\n"
   ]
  },
  {
   "cell_type": "code",
   "execution_count": 2,
   "metadata": {},
   "outputs": [],
   "source": [
    "sparkConf = SparkConf().setAppName('CMPE256')\n",
    "sparkConf.set('spark.executor.memory', '16g')\n",
    "sparkConf.set('spark.executor.cores', '5')\n",
    "sparkConf.set('spark.cores.max', '40')\n",
    "sparkConf.set('spark.driver.memory', '12g')\n",
    "sparkConf.set('spark.driver.maxResultSize', '4g')\n",
    "DEBUG_CHECKPOINT_PATH = 'C:/Users/mayan/Desktop/college/256'\n",
    "spark = SparkSession.builder.config(conf=sparkConf).getOrCreate()\n",
    "spark.sparkContext.setCheckpointDir(DEBUG_CHECKPOINT_PATH)\n"
   ]
  },
  {
   "cell_type": "code",
   "execution_count": 3,
   "metadata": {},
   "outputs": [],
   "source": [
    "df=spark.read.csv(\"cleaned_hm.csv\")"
   ]
  },
  {
   "cell_type": "code",
   "execution_count": null,
   "metadata": {},
   "outputs": [],
   "source": [
    "df"
   ]
  },
  {
   "cell_type": "code",
   "execution_count": 4,
   "metadata": {},
   "outputs": [],
   "source": [
    "# df_hm = df[df['cleaned_hm'].notnull()]\n",
    "gender_train=spark.read.csv(\"train.csv\",header=True)\n",
    "gender_test=spark.read.csv(\"test.csv\",header=True)\n"
   ]
  },
  {
   "cell_type": "code",
   "execution_count": 5,
   "metadata": {},
   "outputs": [
    {
     "data": {
      "text/plain": [
       "[Row(data='i went on a successful date with someone i felt sympathy and connection with', gender_bin='1'),\n",
       " Row(data='i played a new game that was fun and got to enjoy the mechanics of it', gender_bin='1'),\n",
       " Row(data='i listened to some music and heard an entire album i hadn t heard more than once before', gender_bin='1'),\n",
       " Row(data='went to see a movie with my friend', gender_bin='1'),\n",
       " Row(data='played guitar learning a song on it', gender_bin='1')]"
      ]
     },
     "execution_count": 5,
     "metadata": {},
     "output_type": "execute_result"
    }
   ],
   "source": [
    "gender_train.take(5)"
   ]
  },
  {
   "cell_type": "code",
   "execution_count": 6,
   "metadata": {},
   "outputs": [],
   "source": [
    "tokenizer = Tokenizer(inputCol=\"data\", outputCol=\"tokens\")\n",
    "word2vec = Word2Vec(vectorSize=200, minCount=10, numPartitions=10, inputCol=tokenizer.getOutputCol(), outputCol=\"features\")\n",
    "pipeline = Pipeline(stages=[tokenizer, word2vec])\n",
    "pipelineModel = pipeline.fit(gender_train)"
   ]
  },
  {
   "cell_type": "code",
   "execution_count": null,
   "metadata": {},
   "outputs": [],
   "source": [
    "gende"
   ]
  },
  {
   "cell_type": "code",
   "execution_count": 7,
   "metadata": {},
   "outputs": [],
   "source": [
    "pTrainDF = pipelineModel.transform(gender_train)\n",
    "pTestDF = pipelineModel.transform(gender_test)"
   ]
  },
  {
   "cell_type": "code",
   "execution_count": 9,
   "metadata": {},
   "outputs": [],
   "source": [
    "pTrainDF = pTrainDF.withColumn('gender_bin', pTrainDF['gender_bin'].cast(IntegerType()))\n",
    "pTestDF = pTestDF.withColumn('gender_bin', pTestDF['gender_bin'].cast(IntegerType()))"
   ]
  },
  {
   "cell_type": "code",
   "execution_count": 10,
   "metadata": {},
   "outputs": [
    {
     "data": {
      "text/plain": [
       "[Row(data='i started to walk more around the office meeting my step goal', gender_bin=0, tokens=['i', 'started', 'to', 'walk', 'more', 'around', 'the', 'office', 'meeting', 'my', 'step', 'goal'], features=DenseVector([0.0237, 0.0018, -0.019, -0.0228, -0.0141, 0.0338, -0.034, 0.0489, 0.0257, -0.0364, 0.0306, 0.0118, 0.0304, -0.0016, 0.0068, 0.0446, -0.0038, 0.0247, -0.0085, 0.0353, -0.0104, -0.0051, -0.019, 0.0116, 0.0063, 0.0189, -0.0844, 0.01, -0.012, -0.0526, 0.0171, 0.0332, -0.0068, -0.0495, 0.0263, 0.0004, -0.0022, 0.008, -0.0101, 0.0667, 0.0116, -0.0084, 0.0002, 0.0625, -0.0155, 0.0463, -0.0395, 0.0082, 0.0422, -0.0088, -0.0129, -0.0, 0.0045, 0.0001, -0.0004, 0.0071, -0.0062, -0.0185, -0.0262, -0.0109, -0.0321, 0.0032, 0.0006, -0.0127, -0.0202, -0.0008, 0.0183, 0.019, -0.0228, -0.0106, -0.0028, -0.0431, 0.0188, -0.0422, 0.0703, -0.0277, 0.0332, 0.024, 0.0324, 0.0098, 0.0041, -0.0149, 0.0769, 0.007, -0.0181, -0.0467, -0.0167, -0.058, -0.0187, -0.021, 0.0041, -0.0014, 0.0071, -0.0088, 0.0894, -0.0028, 0.0084, 0.0377, -0.0254, -0.0138, -0.0076, 0.0385, -0.0353, 0.0157, -0.0404, -0.022, 0.0602, 0.0389, 0.0504, 0.0527, 0.0777, 0.0013, 0.0303, -0.015, 0.0392, -0.0246, 0.0309, 0.0178, -0.0242, 0.0062, 0.0443, -0.0452, -0.0027, 0.0695, 0.0337, -0.0432, -0.0255, 0.0208, -0.0319, 0.024, 0.0478, -0.0371, 0.0262, 0.0103, 0.0471, -0.0273, 0.0161, -0.0299, -0.0489, 0.0013, 0.014, -0.0263, -0.068, 0.0523, -0.023, -0.0409, 0.0126, 0.0324, 0.0385, 0.0058, -0.0572, -0.0344, -0.0328, -0.0005, 0.018, -0.011, 0.0003, -0.0392, 0.0511, 0.0001, -0.0135, -0.0322, 0.0853, -0.032, -0.0363, -0.0162, 0.0106, -0.0205, -0.0089, -0.0223, 0.0086, 0.0355, 0.0168, 0.0164, 0.0319, -0.0133, 0.0369, 0.0135, 0.0464, -0.0255, -0.0556, -0.0391, 0.0168, -0.0216, 0.0069, -0.023, -0.1051, 0.0417, 0.031, -0.0025, 0.0441, -0.0272, 0.0018, 0.0327, -0.0489, -0.0264, 0.0116, 0.0525, 0.0306, 0.0072])),\n",
       " Row(data='i bought my mom a bonsai tree for mother s day and she really loves it', gender_bin=0, tokens=['i', 'bought', 'my', 'mom', 'a', 'bonsai', 'tree', 'for', 'mother', 's', 'day', 'and', 'she', 'really', 'loves', 'it'], features=DenseVector([0.0431, -0.0065, -0.0117, 0.0022, 0.0047, 0.026, 0.0098, 0.0452, 0.0074, 0.0065, 0.0162, 0.0224, 0.0472, 0.0217, -0.0194, 0.067, 0.007, 0.0029, -0.0215, -0.0016, -0.0299, 0.0107, -0.0062, -0.0306, 0.0462, -0.0056, -0.0572, 0.0382, 0.0265, -0.0259, -0.0094, -0.0122, 0.0192, -0.0703, -0.0124, 0.0055, -0.1027, 0.0123, 0.0104, -0.0071, 0.003, -0.0061, 0.0345, 0.0095, -0.0108, 0.0232, 0.0405, 0.0794, -0.0457, 0.0151, 0.0738, -0.06, 0.0071, 0.0188, 0.0167, -0.0103, 0.0189, -0.0027, -0.021, -0.0061, 0.0549, -0.0086, -0.0582, -0.024, 0.0119, 0.0291, -0.0104, -0.0147, 0.0528, -0.0055, 0.0144, 0.0083, -0.0376, 0.0392, -0.0287, -0.0649, -0.104, 0.0232, -0.0168, 0.0221, -0.0219, -0.0488, 0.0125, -0.023, 0.0115, -0.0408, -0.073, 0.0095, -0.0133, 0.0079, 0.005, -0.0282, 0.0364, -0.0296, -0.0044, -0.0125, 0.0103, 0.011, 0.0354, 0.0686, -0.0338, -0.0279, -0.0165, 0.0331, 0.0208, 0.0241, -0.0094, -0.0188, -0.0333, 0.0459, -0.0274, -0.0406, 0.0224, 0.0148, -0.04, -0.0149, 0.0373, -0.0057, -0.0247, 0.0618, -0.0187, -0.0107, 0.0235, 0.0098, 0.012, 0.0432, 0.0168, -0.027, 0.0151, -0.0002, 0.016, -0.0255, -0.0278, -0.0375, -0.0546, 0.0082, 0.0137, -0.0296, -0.0234, -0.0528, -0.0434, 0.0533, -0.0237, 0.0394, -0.0481, -0.058, 0.018, 0.0003, -0.0122, -0.0107, -0.0245, -0.028, 0.037, -0.0013, -0.0028, -0.0243, 0.0661, 0.003, 0.0154, -0.0231, -0.042, 0.0511, 0.0185, -0.0239, 0.0188, -0.0337, -0.0252, 0.0198, -0.0215, 0.0193, -0.007, -0.0225, -0.0311, -0.0664, -0.0348, -0.0046, 0.0502, 0.0162, 0.0055, 0.0273, -0.0489, 0.0081, 0.022, -0.0073, -0.0085, -0.0203, -0.0178, -0.0058, 0.0649, -0.0352, 0.0323, 0.0184, -0.0121, 0.0518, 0.0227, -0.0561, 0.1014, 0.0058, 0.0044, 0.0269])),\n",
       " Row(data='i was able to plan out the next two months as i have secured training and my future work trips', gender_bin=0, tokens=['i', 'was', 'able', 'to', 'plan', 'out', 'the', 'next', 'two', 'months', 'as', 'i', 'have', 'secured', 'training', 'and', 'my', 'future', 'work', 'trips'], features=DenseVector([0.0214, 0.0193, -0.0074, -0.019, -0.0009, 0.0257, -0.041, -0.0202, 0.0079, -0.0142, 0.0113, -0.0045, 0.0417, 0.0312, 0.0037, 0.023, 0.0447, -0.0177, 0.0207, 0.0914, 0.0134, -0.01, 0.0183, 0.0034, 0.0245, 0.0194, -0.0525, -0.0213, 0.0149, -0.0484, 0.021, 0.052, -0.0528, -0.0534, 0.0156, 0.0113, -0.0313, -0.0092, -0.0054, 0.0773, 0.0227, -0.0077, -0.0101, 0.0142, -0.0021, 0.009, -0.0054, 0.0141, 0.0034, -0.0287, -0.0418, 0.0258, -0.0155, -0.0068, -0.0327, 0.0143, -0.0218, -0.007, -0.0301, -0.0522, -0.0021, -0.0559, 0.0089, -0.0051, -0.011, -0.0271, -0.014, -0.0217, -0.0215, 0.0082, 0.0098, -0.0188, 0.0411, -0.0498, 0.0242, -0.0182, 0.0374, 0.0147, 0.0209, -0.0126, 0.0264, -0.0053, 0.0246, 0.0362, -0.0164, -0.0388, 0.0239, -0.0574, 0.0367, 0.0091, 0.0288, -0.0086, -0.0122, -0.0232, 0.0855, -0.0241, 0.0045, 0.0532, 0.0344, -0.0013, -0.0149, -0.0083, -0.0236, 0.0077, -0.0149, -0.0211, 0.065, 0.0025, 0.0143, 0.0492, 0.0378, -0.0039, 0.032, 0.0003, -0.0085, 0.0059, 0.0106, 0.0024, -0.0562, -0.0233, 0.0512, -0.0146, -0.0335, 0.0557, 0.003, -0.0501, -0.0215, 0.0398, -0.0197, 0.0288, -0.0136, -0.0218, -0.0152, 0.0164, 0.0376, -0.0272, 0.0281, 0.0074, -0.0327, 0.0251, -0.0253, 0.0018, -0.0694, 0.082, -0.0267, -0.0254, 0.025, 0.0215, 0.0121, 0.0054, -0.0475, 0.0062, -0.0317, -0.0094, 0.0285, 0.0175, -0.0636, 0.0301, -0.0105, 0.009, 0.0288, -0.031, 0.0709, -0.0505, -0.0555, -0.0142, 0.0129, 0.003, -0.0185, 0.027, -0.0079, 0.052, 0.0144, 0.0433, 0.0058, 0.0165, -0.02, -0.0113, 0.04, 0.0187, -0.0473, -0.0447, 0.0142, -0.0547, 0.0454, 0.0163, -0.0296, 0.0359, -0.0085, 0.0305, 0.0545, 0.0153, 0.017, 0.0221, 0.0229, 0.0015, 0.0242, 0.0883, 0.0509, -0.0264])),\n",
       " Row(data='i had dinner with coworkers who were leaving early on their detail to this new location', gender_bin=0, tokens=['i', 'had', 'dinner', 'with', 'coworkers', 'who', 'were', 'leaving', 'early', 'on', 'their', 'detail', 'to', 'this', 'new', 'location'], features=DenseVector([0.0359, -0.0189, -0.032, 0.0343, -0.0151, 0.0617, 0.0261, -0.0187, 0.0337, -0.0842, 0.0252, 0.0204, -0.0166, 0.0275, 0.0011, 0.0197, 0.0075, 0.0341, -0.0562, 0.043, 0.0202, 0.0522, -0.0413, -0.0011, 0.005, 0.0435, -0.0413, 0.0187, -0.0377, -0.0203, 0.0052, -0.0004, -0.0089, -0.0267, 0.0306, -0.0373, -0.0313, -0.0199, -0.0002, 0.0096, 0.0461, -0.0143, -0.0025, 0.1051, -0.006, 0.0384, -0.0433, 0.0112, 0.0366, 0.0174, 0.039, -0.0158, -0.0282, -0.0169, -0.029, 0.0045, 0.0077, -0.0248, -0.029, -0.0293, -0.0171, -0.0207, 0.0011, -0.026, 0.0005, 0.0148, 0.0266, 0.0185, 0.0491, -0.0061, 0.0051, -0.0266, -0.0012, -0.0187, 0.0247, 0.003, -0.0383, 0.0197, -0.0187, 0.0089, 0.0179, -0.0135, 0.0468, -0.0091, -0.0128, -0.0312, -0.0308, -0.0142, -0.0445, 0.0321, 0.0144, -0.0179, 0.0436, 0.0119, 0.0286, -0.0247, 0.0168, 0.0305, -0.0231, 0.0283, 0.0088, 0.0081, -0.0231, 0.0195, -0.0219, 0.0159, 0.0635, 0.0107, 0.047, 0.0166, 0.0131, -0.0115, 0.0398, -0.0477, 0.0126, 0.0052, 0.0355, 0.0128, 0.0147, -0.0318, 0.0369, 0.0128, -0.016, 0.038, 0.0017, 0.0206, 0.0166, -0.0027, -0.0273, 0.0604, 0.0226, -0.0025, 0.0485, 0.0241, 0.0155, 0.0271, -0.0029, 0.0016, -0.0398, -0.0289, -0.0373, -0.0181, -0.0837, 0.0853, -0.0267, -0.0047, 0.0083, 0.0329, 0.0072, -0.0008, 0.0063, -0.0551, -0.0178, 0.0096, -0.0239, 0.0411, 0.0524, 0.0359, 0.0541, -0.0071, -0.0442, 0.0172, 0.0346, -0.0112, -0.0062, -0.0214, 0.0162, 0.0269, -0.0436, -0.0312, 0.0189, 0.0117, -0.0066, -0.0043, 0.0051, 0.0047, -0.0043, 0.0311, 0.0188, -0.0273, -0.0492, -0.0038, -0.0047, -0.0067, -0.0202, -0.0044, -0.0085, 0.0192, 0.0473, -0.0033, 0.0409, -0.0067, 0.0457, 0.04, 0.0117, -0.0172, 0.0324, 0.0266, 0.0072, -0.015])),\n",
       " Row(data='i bought presents for my nieces for their homecoming', gender_bin=0, tokens=['i', 'bought', 'presents', 'for', 'my', 'nieces', 'for', 'their', 'homecoming'], features=DenseVector([0.0457, -0.0298, -0.0466, 0.0592, -0.0262, 0.0877, -0.0292, 0.0168, 0.0305, -0.0754, 0.0812, -0.0062, 0.0378, -0.0481, -0.0331, 0.0889, -0.0068, 0.0045, -0.0234, 0.0185, -0.0178, 0.0615, 0.0135, 0.0141, 0.037, 0.0276, -0.0356, 0.0102, 0.0328, -0.0301, 0.0211, 0.0039, 0.0227, 0.0127, 0.0122, 0.0186, -0.066, -0.0012, -0.0163, 0.0203, -0.0083, -0.0268, 0.0465, 0.0247, 0.0314, 0.0705, -0.0277, 0.029, 0.0103, 0.0232, 0.0498, -0.0792, -0.0106, 0.0209, -0.0185, -0.0057, 0.0064, 0.0289, 0.0382, -0.0047, -0.0375, -0.0092, -0.0331, 0.0128, 0.0285, -0.055, 0.0569, -0.0364, 0.0379, 0.015, 0.0131, 0.0004, -0.0249, 0.0102, 0.0093, -0.0665, -0.0322, 0.0173, 0.008, 0.01, -0.0735, -0.0269, -0.0311, -0.0249, -0.0408, -0.0369, 0.0249, -0.024, -0.0043, 0.0216, -0.0285, -0.0195, 0.0289, -0.0202, -0.0028, 0.0353, 0.0034, -0.0027, 0.0309, 0.0047, -0.0327, -0.0029, -0.0006, 0.0714, -0.0109, 0.022, 0.0165, -0.0169, -0.0013, 0.0426, 0.0407, 0.0145, 0.0202, 0.0451, 0.0368, 0.0115, 0.0537, 0.0358, 0.008, 0.0307, -0.0031, 0.0138, 0.0352, 0.0198, 0.0304, 0.0279, 0.0159, -0.0266, -0.0098, 0.019, 0.0021, 0.0091, 0.0354, -0.0563, 0.0223, -0.011, -0.0276, -0.0371, -0.0065, 0.0158, -0.0582, 0.0555, -0.0776, 0.0544, -0.0315, -0.0277, 0.0089, -0.0122, 0.0023, -0.024, -0.0513, -0.0145, -0.0097, -0.0345, -0.0301, -0.0372, 0.0651, 0.0016, 0.0325, -0.0403, -0.0501, 0.0014, 0.0479, -0.059, 0.0441, -0.0656, -0.0011, -0.0149, -0.0161, -0.0271, 0.0571, 0.0023, 0.0216, 0.001, 0.0562, -0.0507, -0.0259, -0.0301, 0.0306, -0.0065, -0.0179, -0.0, -0.0336, -0.0164, -0.0041, 0.0013, 0.012, 0.047, -0.016, -0.0194, 0.0266, -0.0026, -0.0147, 0.025, 0.0077, -0.0652, 0.05, 0.021, -0.0239, -0.0104]))]"
      ]
     },
     "execution_count": 10,
     "metadata": {},
     "output_type": "execute_result"
    }
   ],
   "source": [
    "pTestDF.take(5)"
   ]
  },
  {
   "cell_type": "code",
   "execution_count": 11,
   "metadata": {},
   "outputs": [],
   "source": [
    "rForest = RandomForestClassifier(labelCol='gender_bin', featuresCol='features')\n",
    "rForestModel = rForest.fit(pTestDF)"
   ]
  },
  {
   "cell_type": "code",
   "execution_count": 12,
   "metadata": {},
   "outputs": [],
   "source": [
    "predictions = rForestModel.transform(pTestDF)"
   ]
  },
  {
   "cell_type": "code",
   "execution_count": 13,
   "metadata": {},
   "outputs": [
    {
     "data": {
      "text/plain": [
       "0.5677860358470923"
      ]
     },
     "execution_count": 13,
     "metadata": {},
     "output_type": "execute_result"
    }
   ],
   "source": [
    "evaluator = MulticlassClassificationEvaluator(labelCol=\"gender_bin\", predictionCol=\"prediction\", metricName=\"f1\")\n",
    "evaluator.evaluate(predictions)"
   ]
  },
  {
   "cell_type": "code",
   "execution_count": 14,
   "metadata": {},
   "outputs": [
    {
     "data": {
      "text/plain": [
       "0.5334780715948739"
      ]
     },
     "execution_count": 14,
     "metadata": {},
     "output_type": "execute_result"
    }
   ],
   "source": [
    "lr = LogisticRegression(featuresCol='features', labelCol='gender_bin')\n",
    "lrModel = lr.fit(pTrainDF)\n",
    "predictionsLR = lrModel.transform(pTestDF)\n",
    "evaluator.evaluate(predictionsLR)"
   ]
  },
  {
   "cell_type": "code",
   "execution_count": 16,
   "metadata": {},
   "outputs": [],
   "source": [
    "# naiveBayes = NaiveBayes(featuresCol='features', labelCol='gender_bin')\n",
    "# naiveModel = naiveBayes.fit(pTrainDF)\n",
    "# predictionsNaive = naiveModel.transform(pTestDF)\n",
    "# evaluator.evaluate(predictionsNaive)"
   ]
  },
  {
   "cell_type": "code",
   "execution_count": null,
   "metadata": {},
   "outputs": [],
   "source": []
  }
 ],
 "metadata": {
  "kernelspec": {
   "display_name": "Python 3",
   "language": "python",
   "name": "python3"
  },
  "language_info": {
   "codemirror_mode": {
    "name": "ipython",
    "version": 3
   },
   "file_extension": ".py",
   "mimetype": "text/x-python",
   "name": "python",
   "nbconvert_exporter": "python",
   "pygments_lexer": "ipython3",
   "version": "3.7.6"
  }
 },
 "nbformat": 4,
 "nbformat_minor": 4
}
